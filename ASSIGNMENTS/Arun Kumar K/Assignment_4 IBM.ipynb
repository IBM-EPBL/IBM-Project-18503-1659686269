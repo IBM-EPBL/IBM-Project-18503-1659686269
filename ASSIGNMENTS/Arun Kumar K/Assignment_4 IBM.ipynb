{
  "nbformat": 4,
  "nbformat_minor": 0,
  "metadata": {
    "colab": {
      "provenance": [],
      "collapsed_sections": []
    },
    "kernelspec": {
      "name": "python3",
      "display_name": "Python 3"
    },
    "language_info": {
      "name": "python"
    }
  },
  "cells": [
    {
      "cell_type": "code",
      "execution_count": 1,
      "metadata": {
        "id": "-5BFtETlugp7"
      },
      "outputs": [],
      "source": [
        "import numpy as np\n",
        "import pandas as pd\n",
        "import seaborn as sns\n",
        "import matplotlib.pyplot as plt\n",
        "import sklearn"
      ]
    },
    {
      "cell_type": "code",
      "source": [
        "df = pd.read_csv(r\"/content/Mall_Customers.csv\")"
      ],
      "metadata": {
        "id": "ysa2ABRmu_Bc"
      },
      "execution_count": 2,
      "outputs": []
    },
    {
      "cell_type": "markdown",
      "source": [
        "# Univariant Analysis"
      ],
      "metadata": {
        "id": "vdIwlRp2woMW"
      }
    },
    {
      "cell_type": "code",
      "source": [
        "sns.displot(df['Annual Income (k$)'])"
      ],
      "metadata": {
        "colab": {
          "base_uri": "https://localhost:8080/",
          "height": 0
        },
        "id": "Ki7Ky3bYwt_U",
        "outputId": "c38e897c-2182-478c-972c-cac6239782f5"
      },
      "execution_count": 3,
      "outputs": [
        {
          "output_type": "execute_result",
          "data": {
            "text/plain": [
              "<seaborn.axisgrid.FacetGrid at 0x7f4e792c8a90>"
            ]
          },
          "metadata": {},
          "execution_count": 3
        },
        {
          "output_type": "display_data",
          "data": {
            "text/plain": [
              "<Figure size 360x360 with 1 Axes>"
            ],
            "image/png": "[encoded data removed]"
          },
          "metadata": {
            "needs_background": "light"
          }
        }
      ]
    },
    {
      "cell_type": "code",
      "source": [
        "sns.histplot(df['Age'])"
      ],
      "metadata": {
        "colab": {
          "base_uri": "https://localhost:8080/",
          "height": 0
        },
        "id": "di0J50gXxOQG",
        "outputId": "b075316d-76fc-424c-8a44-39d6af31b49f"
      },
      "execution_count": 4,
      "outputs": [
        {
          "output_type": "execute_result",
          "data": {
            "text/plain": [
              "<matplotlib.axes._subplots.AxesSubplot at 0x7f4e7db71ed0>"
            ]
          },
          "metadata": {},
          "execution_count": 4
        },
        {
          "output_type": "display_data",
          "data": {
            "text/plain": [
              "<Figure size 432x288 with 1 Axes>"
            ],
            "image/png": "[encoded data removed]"
          },
          "metadata": {
            "needs_background": "light"
          }
        }
      ]
    },
    {
      "cell_type": "code",
      "source": [
        "sns.boxplot(df['Annual Income (k$)'])"
      ],
      "metadata": {
        "colab": {
          "base_uri": "https://localhost:8080/",
          "height": 0
        },
        "id": "UcVGHy-wxS8V",
        "outputId": "798768ef-9f65-4fe2-f989-0c6abbd63089"
      },
      "execution_count": 5,
      "outputs": [
        {
          "output_type": "stream",
          "name": "stderr",
          "text": [
            "/usr/local/lib/python3.7/dist-packages/seaborn/_decorators.py:43: FutureWarning: Pass the following variable as a keyword arg: x. From version 0.12, the only valid positional argument will be `data`, and passing other arguments without an explicit keyword will result in an error or misinterpretation.\n",
            "  FutureWarning\n"
          ]
        },
        {
          "output_type": "execute_result",
          "data": {
            "text/plain": [
              "<matplotlib.axes._subplots.AxesSubplot at 0x7f4e64dcfa50>"
            ]
          },
          "metadata": {},
          "execution_count": 5
        },
        {
          "output_type": "display_data",
          "data": {
            "text/plain": [
              "<Figure size 432x288 with 1 Axes>"
            ],
            "image/png": "[encoded data removed]"
          },
          "metadata": {
            "needs_background": "light"
          }
        }
      ]
    },
    {
      "cell_type": "markdown",
      "source": [
        "# Bivariate Analaysis"
      ],
      "metadata": {
        "id": "38Kms6qHxlQf"
      }
    },
    {
      "cell_type": "code",
      "source": [
        "sns.lineplot(df['Age'], df['Annual Income (k$)'])"
      ],
      "metadata": {
        "colab": {
          "base_uri": "https://localhost:8080/",
          "height": 0
        },
        "id": "6Lhg2mf1xmxj",
        "outputId": "3048ac5d-063f-4a65-b575-63f8035f8fbb"
      },
      "execution_count": 6,
      "outputs": [
        {
          "output_type": "stream",
          "name": "stderr",
          "text": [
            "/usr/local/lib/python3.7/dist-packages/seaborn/_decorators.py:43: FutureWarning: Pass the following variables as keyword args: x, y. From version 0.12, the only valid positional argument will be `data`, and passing other arguments without an explicit keyword will result in an error or misinterpretation.\n",
            "  FutureWarning\n"
          ]
        },
        {
          "output_type": "execute_result",
          "data": {
            "text/plain": [
              "<matplotlib.axes._subplots.AxesSubplot at 0x7f4e648349d0>"
            ]
          },
          "metadata": {},
          "execution_count": 6
        },
        {
          "output_type": "display_data",
          "data": {
            "text/plain": [
              "<Figure size 432x288 with 1 Axes>"
            ],
            "image/png": "[encoded data removed]"
          },
          "metadata": {
            "needs_background": "light"
          }
        }
      ]
    },
    {
      "cell_type": "code",
      "source": [
        "sns.barplot(df['Age'], df['Annual Income (k$)'])"
      ],
      "metadata": {
        "colab": {
          "base_uri": "https://localhost:8080/",
          "height": 0
        },
        "id": "a_jaJq4exs-k",
        "outputId": "e2b02f49-df7b-4d78-b0b2-40cad5b7ab28"
      },
      "execution_count": 7,
      "outputs": [
        {
          "output_type": "stream",
          "name": "stderr",
          "text": [
            "/usr/local/lib/python3.7/dist-packages/seaborn/_decorators.py:43: FutureWarning: Pass the following variables as keyword args: x, y. From version 0.12, the only valid positional argument will be `data`, and passing other arguments without an explicit keyword will result in an error or misinterpretation.\n",
            "  FutureWarning\n"
          ]
        },
        {
          "output_type": "execute_result",
          "data": {
            "text/plain": [
              "<matplotlib.axes._subplots.AxesSubplot at 0x7f4e647d3b50>"
            ]
          },
          "metadata": {},
          "execution_count": 7
        },
        {
          "output_type": "display_data",
          "data": {
            "text/plain": [
              "<Figure size 432x288 with 1 Axes>"
            ],
            "image/png": "[encoded data removed]"
          },
          "metadata": {
            "needs_background": "light"
          }
        }
      ]
    },
    {
      "cell_type": "code",
      "source": [
        "plt.figure(figsize=(45,50))\n",
        "sns.barplot(df['Age'], df['Annual Income (k$)'])"
      ],
      "metadata": {
        "colab": {
          "base_uri": "https://localhost:8080/",
          "height": 0
        },
        "id": "ms0Q9Feoxzsl",
        "outputId": "67165d91-7344-49df-a255-0b44d6535f69"
      },
      "execution_count": 8,
      "outputs": [
        {
          "output_type": "stream",
          "name": "stderr",
          "text": [
            "/usr/local/lib/python3.7/dist-packages/seaborn/_decorators.py:43: FutureWarning: Pass the following variables as keyword args: x, y. From version 0.12, the only valid positional argument will be `data`, and passing other arguments without an explicit keyword will result in an error or misinterpretation.\n",
            "  FutureWarning\n"
          ]
        },
        {
          "output_type": "execute_result",
          "data": {
            "text/plain": [
              "<matplotlib.axes._subplots.AxesSubplot at 0x7f4e645534d0>"
            ]
          },
          "metadata": {},
          "execution_count": 8
        },
        {
          "output_type": "display_data",
          "data": {
            "text/plain": [
              "<Figure size 3240x3600 with 1 Axes>"
            ],
            "image/png": "[encoded data removed]"
          },
          "metadata": {
            "needs_background": "light"
          }
        }
      ]
    },
    {
      "cell_type": "code",
      "source": [
        "sns.scatterplot(data = df, x = 'Age', y = 'Annual Income (k$)')"
      ],
      "metadata": {
        "colab": {
          "base_uri": "https://localhost:8080/",
          "height": 0
        },
        "id": "mD5NDV3dyE30",
        "outputId": "cd1cf427-9cdc-4a55-c9fe-1a5ecd785376"
      },
      "execution_count": 9,
      "outputs": [
        {
          "output_type": "execute_result",
          "data": {
            "text/plain": [
              "<matplotlib.axes._subplots.AxesSubplot at 0x7f4e644c2f50>"
            ]
          },
          "metadata": {},
          "execution_count": 9
        },
        {
          "output_type": "display_data",
          "data": {
            "text/plain": [
              "<Figure size 432x288 with 1 Axes>"
            ],
            "image/png": "[encoded data removed]"
          },
          "metadata": {
            "needs_background": "light"
          }
        }
      ]
    },
    {
      "cell_type": "markdown",
      "source": [
        "# Multivariate Analysis"
      ],
      "metadata": {
        "id": "zoKbNhTC0tU_"
      }
    },
    {
      "cell_type": "code",
      "source": [
        "sns.scatterplot(df['Annual Income (k$)'], df['Spending Score (1-100)'], hue = df[\"Age\"])"
      ],
      "metadata": {
        "colab": {
          "base_uri": "https://localhost:8080/",
          "height": 0
        },
        "id": "s9N2MGO600JM",
        "outputId": "1f1fb47e-8f55-4fc0-8cd3-d43d2a826b2f"
      },
      "execution_count": 10,
      "outputs": [
        {
          "output_type": "stream",
          "name": "stderr",
          "text": [
            "/usr/local/lib/python3.7/dist-packages/seaborn/_decorators.py:43: FutureWarning: Pass the following variables as keyword args: x, y. From version 0.12, the only valid positional argument will be `data`, and passing other arguments without an explicit keyword will result in an error or misinterpretation.\n",
            "  FutureWarning\n"
          ]
        },
        {
          "output_type": "execute_result",
          "data": {
            "text/plain": [
              "<matplotlib.axes._subplots.AxesSubplot at 0x7f4e6429ee50>"
            ]
          },
          "metadata": {},
          "execution_count": 10
        },
        {
          "output_type": "display_data",
          "data": {
            "text/plain": [
              "<Figure size 432x288 with 1 Axes>"
            ],
            "image/png": "[encoded data removed]"
          },
          "metadata": {
            "needs_background": "light"
          }
        }
      ]
    },
    {
      "cell_type": "code",
      "source": [
        "sns.pairplot(df)"
      ],
      "metadata": {
        "colab": {
          "base_uri": "https://localhost:8080/",
          "height": 0
        },
        "id": "CAU5Nbio1MRN",
        "outputId": "9b3120be-4339-4d1b-8639-806d8f7ae711"
      },
      "execution_count": 11,
      "outputs": [
        {
          "output_type": "execute_result",
          "data": {
            "text/plain": [
              "<seaborn.axisgrid.PairGrid at 0x7f4e64d64410>"
            ]
          },
          "metadata": {},
          "execution_count": 11
        },
        {
          "output_type": "display_data",
          "data": {
            "text/plain": [
              "<Figure size 720x720 with 20 Axes>"
            ],
            "image/png": "[encoded data removed]"
          },
          "metadata": {
            "needs_background": "light"
          }
        }
      ]
    },
    {
      "cell_type": "markdown",
      "source": [
        "# Descriptive Statistics"
      ],
      "metadata": {
        "id": "fTyXYmeQ2SDZ"
      }
    },
    {
      "cell_type": "code",
      "source": [
        "df.mean(numeric_only = True)"
      ],
      "metadata": {
        "colab": {
          "base_uri": "https://localhost:8080/"
        },
        "id": "0v3QZF5v2TTi",
        "outputId": "91f76114-3c7d-498e-c6f0-b22618e91f01"
      },
      "execution_count": 20,
      "outputs": [
        {
          "output_type": "execute_result",
          "data": {
            "text/plain": [
              "CustomerID                100.50\n",
              "Age                        38.85\n",
              "Annual Income (k$)         60.56\n",
              "Spending Score (1-100)     50.20\n",
              "dtype: float64"
            ]
          },
          "metadata": {},
          "execution_count": 20
        }
      ]
    },
    {
      "cell_type": "code",
      "source": [
        "df.median(numeric_only = True)"
      ],
      "metadata": {
        "colab": {
          "base_uri": "https://localhost:8080/"
        },
        "id": "p3h3aX532XGD",
        "outputId": "548ad217-b95a-4c32-f48f-c0b76d0a7f19"
      },
      "execution_count": 21,
      "outputs": [
        {
          "output_type": "execute_result",
          "data": {
            "text/plain": [
              "CustomerID                100.5\n",
              "Age                        36.0\n",
              "Annual Income (k$)         61.5\n",
              "Spending Score (1-100)     50.0\n",
              "dtype: float64"
            ]
          },
          "metadata": {},
          "execution_count": 21
        }
      ]
    },
    {
      "cell_type": "code",
      "source": [
        "df['Age'].mode()"
      ],
      "metadata": {
        "id": "htcpuTKR2aVE",
        "colab": {
          "base_uri": "https://localhost:8080/"
        },
        "outputId": "8a47ab03-c789-431f-acff-c08203a264ba"
      },
      "execution_count": 22,
      "outputs": [
        {
          "output_type": "execute_result",
          "data": {
            "text/plain": [
              "0    32\n",
              "dtype: int64"
            ]
          },
          "metadata": {},
          "execution_count": 22
        }
      ]
    },
    {
      "cell_type": "code",
      "source": [
        "df['Annual Income (k$)'].unique()"
      ],
      "metadata": {
        "colab": {
          "base_uri": "https://localhost:8080/"
        },
        "id": "uSEdBS9qIpjZ",
        "outputId": "e25308fd-39c2-42a4-c170-0f46f860cafe"
      },
      "execution_count": 23,
      "outputs": [
        {
          "output_type": "execute_result",
          "data": {
            "text/plain": [
              "array([ 15,  16,  17,  18,  19,  20,  21,  23,  24,  25,  28,  29,  30,\n",
              "        33,  34,  37,  38,  39,  40,  42,  43,  44,  46,  47,  48,  49,\n",
              "        50,  54,  57,  58,  59,  60,  61,  62,  63,  64,  65,  67,  69,\n",
              "        70,  71,  72,  73,  74,  75,  76,  77,  78,  79,  81,  85,  86,\n",
              "        87,  88,  93,  97,  98,  99, 101, 103, 113, 120, 126, 137])"
            ]
          },
          "metadata": {},
          "execution_count": 23
        }
      ]
    },
    {
      "cell_type": "code",
      "source": [
        "df.std(numeric_only=True)"
      ],
      "metadata": {
        "colab": {
          "base_uri": "https://localhost:8080/"
        },
        "id": "qdtR_WeBIqng",
        "outputId": "0334fe9e-c837-43fa-9562-6e8ea8eecfe3"
      },
      "execution_count": 24,
      "outputs": [
        {
          "output_type": "execute_result",
          "data": {
            "text/plain": [
              "CustomerID                57.879185\n",
              "Age                       13.969007\n",
              "Annual Income (k$)        26.264721\n",
              "Spending Score (1-100)    25.823522\n",
              "dtype: float64"
            ]
          },
          "metadata": {},
          "execution_count": 24
        }
      ]
    },
    {
      "cell_type": "code",
      "source": [
        "df.describe()"
      ],
      "metadata": {
        "colab": {
          "base_uri": "https://localhost:8080/",
          "height": 0
        },
        "id": "8El3a2zFItEg",
        "outputId": "3ccc2aae-1e52-414c-ed2e-ca82c0450163"
      },
      "execution_count": 25,
      "outputs": [
        {
          "output_type": "execute_result",
          "data": {
            "text/plain": [
              "       CustomerID         Age  Annual Income (k$)  Spending Score (1-100)\n",
              "count  200.000000  200.000000          200.000000              200.000000\n",
              "mean   100.500000   38.850000           60.560000               50.200000\n",
              "std     57.879185   13.969007           26.264721               25.823522\n",
              "min      1.000000   18.000000           15.000000                1.000000\n",
              "25%     50.750000   28.750000           41.500000               34.750000\n",
              "50%    100.500000   36.000000           61.500000               50.000000\n",
              "75%    150.250000   49.000000           78.000000               73.000000\n",
              "max    200.000000   70.000000          137.000000               99.000000"
            ],
            "text/html": [
              "\n",
              "  <div id=\"df-f7f668a7-f3ca-4736-92fa-8d2fba4897fb\">\n",
              "    <div class=\"colab-df-container\">\n",
              "      <div>\n",
              "<style scoped>\n",
              "    .dataframe tbody tr th:only-of-type {\n",
              "        vertical-align: middle;\n",
              "    }\n",
              "\n",
              "    .dataframe tbody tr th {\n",
              "        vertical-align: top;\n",
              "    }\n",
              "\n",
              "    .dataframe thead th {\n",
              "        text-align: right;\n",
              "    }\n",
              "</style>\n",
              "<table border=\"1\" class=\"dataframe\">\n",
              "  <thead>\n",
              "    <tr style=\"text-align: right;\">\n",
              "      <th></th>\n",
              "      <th>CustomerID</th>\n",
              "      <th>Age</th>\n",
              "      <th>Annual Income (k$)</th>\n",
              "      <th>Spending Score (1-100)</th>\n",
              "    </tr>\n",
              "  </thead>\n",
              "  <tbody>\n",
              "    <tr>\n",
              "      <th>count</th>\n",
              "      <td>200.000000</td>\n",
              "      <td>200.000000</td>\n",
              "      <td>200.000000</td>\n",
              "      <td>200.000000</td>\n",
              "    </tr>\n",
              "    <tr>\n",
              "      <th>mean</th>\n",
              "      <td>100.500000</td>\n",
              "      <td>38.850000</td>\n",
              "      <td>60.560000</td>\n",
              "      <td>50.200000</td>\n",
              "    </tr>\n",
              "    <tr>\n",
              "      <th>std</th>\n",
              "      <td>57.879185</td>\n",
              "      <td>13.969007</td>\n",
              "      <td>26.264721</td>\n",
              "      <td>25.823522</td>\n",
              "    </tr>\n",
              "    <tr>\n",
              "      <th>min</th>\n",
              "      <td>1.000000</td>\n",
              "      <td>18.000000</td>\n",
              "      <td>15.000000</td>\n",
              "      <td>1.000000</td>\n",
              "    </tr>\n",
              "    <tr>\n",
              "      <th>25%</th>\n",
              "      <td>50.750000</td>\n",
              "      <td>28.750000</td>\n",
              "      <td>41.500000</td>\n",
              "      <td>34.750000</td>\n",
              "    </tr>\n",
              "    <tr>\n",
              "      <th>50%</th>\n",
              "      <td>100.500000</td>\n",
              "      <td>36.000000</td>\n",
              "      <td>61.500000</td>\n",
              "      <td>50.000000</td>\n",
              "    </tr>\n",
              "    <tr>\n",
              "      <th>75%</th>\n",
              "      <td>150.250000</td>\n",
              "      <td>49.000000</td>\n",
              "      <td>78.000000</td>\n",
              "      <td>73.000000</td>\n",
              "    </tr>\n",
              "    <tr>\n",
              "      <th>max</th>\n",
              "      <td>200.000000</td>\n",
              "      <td>70.000000</td>\n",
              "      <td>137.000000</td>\n",
              "      <td>99.000000</td>\n",
              "    </tr>\n",
              "  </tbody>\n",
              "</table>\n",
              "</div>\n",
              "      <button class=\"colab-df-convert\" onclick=\"convertToInteractive('df-f7f668a7-f3ca-4736-92fa-8d2fba4897fb')\"\n",
              "              title=\"Convert this dataframe to an interactive table.\"\n",
              "              style=\"display:none;\">\n",
              "        \n",
              "  <svg xmlns=\"http://www.w3.org/2000/svg\" height=\"24px\"viewBox=\"0 0 24 24\"\n",
              "       width=\"24px\">\n",
              "    <path d=\"M0 0h24v24H0V0z\" fill=\"none\"/>\n",
              "    <path d=\"M18.56 5.44l.94 2.06.94-2.06 2.06-.94-2.06-.94-.94-2.06-.94 2.06-2.06.94zm-11 1L8.5 8.5l.94-2.06 2.06-.94-2.06-.94L8.5 2.5l-.94 2.06-2.06.94zm10 10l.94 2.06.94-2.06 2.06-.94-2.06-.94-.94-2.06-.94 2.06-2.06.94z\"/><path d=\"M17.41 7.96l-1.37-1.37c-.4-.4-.92-.59-1.43-.59-.52 0-1.04.2-1.43.59L10.3 9.45l-7.72 7.72c-.78.78-.78 2.05 0 2.83L4 21.41c.39.39.9.59 1.41.59.51 0 1.02-.2 1.41-.59l7.78-7.78 2.81-2.81c.8-.78.8-2.07 0-2.86zM5.41 20L4 18.59l7.72-7.72 1.47 1.35L5.41 20z\"/>\n",
              "  </svg>\n",
              "      </button>\n",
              "      \n",
              "  <style>\n",
              "    .colab-df-container {\n",
              "      display:flex;\n",
              "      flex-wrap:wrap;\n",
              "      gap: 12px;\n",
              "    }\n",
              "\n",
              "    .colab-df-convert {\n",
              "      background-color: #E8F0FE;\n",
              "      border: none;\n",
              "      border-radius: 50%;\n",
              "      cursor: pointer;\n",
              "      display: none;\n",
              "      fill: #1967D2;\n",
              "      height: 32px;\n",
              "      padding: 0 0 0 0;\n",
              "      width: 32px;\n",
              "    }\n",
              "\n",
              "    .colab-df-convert:hover {\n",
              "      background-color: #E2EBFA;\n",
              "      box-shadow: 0px 1px 2px rgba(60, 64, 67, 0.3), 0px 1px 3px 1px rgba(60, 64, 67, 0.15);\n",
              "      fill: #174EA6;\n",
              "    }\n",
              "\n",
              "    [theme=dark] .colab-df-convert {\n",
              "      background-color: #3B4455;\n",
              "      fill: #D2E3FC;\n",
              "    }\n",
              "\n",
              "    [theme=dark] .colab-df-convert:hover {\n",
              "      background-color: #434B5C;\n",
              "      box-shadow: 0px 1px 3px 1px rgba(0, 0, 0, 0.15);\n",
              "      filter: drop-shadow(0px 1px 2px rgba(0, 0, 0, 0.3));\n",
              "      fill: #FFFFFF;\n",
              "    }\n",
              "  </style>\n",
              "\n",
              "      <script>\n",
              "        const buttonEl =\n",
              "          document.querySelector('#df-f7f668a7-f3ca-4736-92fa-8d2fba4897fb button.colab-df-convert');\n",
              "        buttonEl.style.display =\n",
              "          google.colab.kernel.accessAllowed ? 'block' : 'none';\n",
              "\n",
              "        async function convertToInteractive(key) {\n",
              "          const element = document.querySelector('#df-f7f668a7-f3ca-4736-92fa-8d2fba4897fb');\n",
              "          const dataTable =\n",
              "            await google.colab.kernel.invokeFunction('convertToInteractive',\n",
              "                                                     [key], {});\n",
              "          if (!dataTable) return;\n",
              "\n",
              "          const docLinkHtml = 'Like what you see? Visit the ' +\n",
              "            '<a target=\"_blank\" href=https://colab.research.google.com/notebooks/data_table.ipynb>data table notebook</a>'\n",
              "            + ' to learn more about interactive tables.';\n",
              "          element.innerHTML = '';\n",
              "          dataTable['output_type'] = 'display_data';\n",
              "          await google.colab.output.renderOutput(dataTable, element);\n",
              "          const docLink = document.createElement('div');\n",
              "          docLink.innerHTML = docLinkHtml;\n",
              "          element.appendChild(docLink);\n",
              "        }\n",
              "      </script>\n",
              "    </div>\n",
              "  </div>\n",
              "  "
            ]
          },
          "metadata": {},
          "execution_count": 25
        }
      ]
    },
    {
      "cell_type": "code",
      "source": [
        "df.isnull().any()"
      ],
      "metadata": {
        "colab": {
          "base_uri": "https://localhost:8080/"
        },
        "id": "sK489jMRIvdp",
        "outputId": "36618448-109e-4b9b-f06a-45d73fa7552f"
      },
      "execution_count": 26,
      "outputs": [
        {
          "output_type": "execute_result",
          "data": {
            "text/plain": [
              "CustomerID                False\n",
              "Gender                    False\n",
              "Age                       False\n",
              "Annual Income (k$)        False\n",
              "Spending Score (1-100)    False\n",
              "dtype: bool"
            ]
          },
          "metadata": {},
          "execution_count": 26
        }
      ]
    },
    {
      "cell_type": "code",
      "source": [
        "df.isnull().sum()"
      ],
      "metadata": {
        "colab": {
          "base_uri": "https://localhost:8080/"
        },
        "id": "dEwt6AUTIxfp",
        "outputId": "ec26dba5-2564-4025-ed0f-c9f816216801"
      },
      "execution_count": 27,
      "outputs": [
        {
          "output_type": "execute_result",
          "data": {
            "text/plain": [
              "CustomerID                0\n",
              "Gender                    0\n",
              "Age                       0\n",
              "Annual Income (k$)        0\n",
              "Spending Score (1-100)    0\n",
              "dtype: int64"
            ]
          },
          "metadata": {},
          "execution_count": 27
        }
      ]
    },
    {
      "cell_type": "markdown",
      "source": [
        "# Outliers"
      ],
      "metadata": {
        "id": "mIPwKGxeJAr5"
      }
    },
    {
      "cell_type": "code",
      "source": [
        "sns.boxplot(df['Annual Income (k$)'])"
      ],
      "metadata": {
        "colab": {
          "base_uri": "https://localhost:8080/",
          "height": 0
        },
        "id": "bRHE8WXwIzwZ",
        "outputId": "59fb0c88-c1a9-40ac-f387-c4f1216b99a3"
      },
      "execution_count": 28,
      "outputs": [
        {
          "output_type": "stream",
          "name": "stderr",
          "text": [
            "/usr/local/lib/python3.7/dist-packages/seaborn/_decorators.py:43: FutureWarning: Pass the following variable as a keyword arg: x. From version 0.12, the only valid positional argument will be `data`, and passing other arguments without an explicit keyword will result in an error or misinterpretation.\n",
            "  FutureWarning\n"
          ]
        },
        {
          "output_type": "execute_result",
          "data": {
            "text/plain": [
              "<matplotlib.axes._subplots.AxesSubplot at 0x7f4e63b251d0>"
            ]
          },
          "metadata": {},
          "execution_count": 28
        },
        {
          "output_type": "display_data",
          "data": {
            "text/plain": [
              "<Figure size 432x288 with 1 Axes>"
            ],
            "image/png": "[encoded data removed]"
          },
          "metadata": {
            "needs_background": "light"
          }
        }
      ]
    },
    {
      "cell_type": "code",
      "source": [
        "q = df.quantile([0.75,0.25])"
      ],
      "metadata": {
        "id": "O6XgJ3wvJEPQ"
      },
      "execution_count": 29,
      "outputs": []
    },
    {
      "cell_type": "code",
      "source": [
        "q"
      ],
      "metadata": {
        "colab": {
          "base_uri": "https://localhost:8080/",
          "height": 0
        },
        "id": "cZ2Tz0HSJGWo",
        "outputId": "5d7e59b7-5359-40ee-f812-1d973765b9c6"
      },
      "execution_count": 30,
      "outputs": [
        {
          "output_type": "execute_result",
          "data": {
            "text/plain": [
              "      CustomerID    Age  Annual Income (k$)  Spending Score (1-100)\n",
              "0.75      150.25  49.00                78.0                   73.00\n",
              "0.25       50.75  28.75                41.5                   34.75"
            ],
            "text/html": [
              "\n",
              "  <div id=\"df-f96dbc19-38e2-438e-a29e-60d840705e03\">\n",
              "    <div class=\"colab-df-container\">\n",
              "      <div>\n",
              "<style scoped>\n",
              "    .dataframe tbody tr th:only-of-type {\n",
              "        vertical-align: middle;\n",
              "    }\n",
              "\n",
              "    .dataframe tbody tr th {\n",
              "        vertical-align: top;\n",
              "    }\n",
              "\n",
              "    .dataframe thead th {\n",
              "        text-align: right;\n",
              "    }\n",
              "</style>\n",
              "<table border=\"1\" class=\"dataframe\">\n",
              "  <thead>\n",
              "    <tr style=\"text-align: right;\">\n",
              "      <th></th>\n",
              "      <th>CustomerID</th>\n",
              "      <th>Age</th>\n",
              "      <th>Annual Income (k$)</th>\n",
              "      <th>Spending Score (1-100)</th>\n",
              "    </tr>\n",
              "  </thead>\n",
              "  <tbody>\n",
              "    <tr>\n",
              "      <th>0.75</th>\n",
              "      <td>150.25</td>\n",
              "      <td>49.00</td>\n",
              "      <td>78.0</td>\n",
              "      <td>73.00</td>\n",
              "    </tr>\n",
              "    <tr>\n",
              "      <th>0.25</th>\n",
              "      <td>50.75</td>\n",
              "      <td>28.75</td>\n",
              "      <td>41.5</td>\n",
              "      <td>34.75</td>\n",
              "    </tr>\n",
              "  </tbody>\n",
              "</table>\n",
              "</div>\n",
              "      <button class=\"colab-df-convert\" onclick=\"convertToInteractive('df-f96dbc19-38e2-438e-a29e-60d840705e03')\"\n",
              "              title=\"Convert this dataframe to an interactive table.\"\n",
              "              style=\"display:none;\">\n",
              "        \n",
              "  <svg xmlns=\"http://www.w3.org/2000/svg\" height=\"24px\"viewBox=\"0 0 24 24\"\n",
              "       width=\"24px\">\n",
              "    <path d=\"M0 0h24v24H0V0z\" fill=\"none\"/>\n",
              "    <path d=\"M18.56 5.44l.94 2.06.94-2.06 2.06-.94-2.06-.94-.94-2.06-.94 2.06-2.06.94zm-11 1L8.5 8.5l.94-2.06 2.06-.94-2.06-.94L8.5 2.5l-.94 2.06-2.06.94zm10 10l.94 2.06.94-2.06 2.06-.94-2.06-.94-.94-2.06-.94 2.06-2.06.94z\"/><path d=\"M17.41 7.96l-1.37-1.37c-.4-.4-.92-.59-1.43-.59-.52 0-1.04.2-1.43.59L10.3 9.45l-7.72 7.72c-.78.78-.78 2.05 0 2.83L4 21.41c.39.39.9.59 1.41.59.51 0 1.02-.2 1.41-.59l7.78-7.78 2.81-2.81c.8-.78.8-2.07 0-2.86zM5.41 20L4 18.59l7.72-7.72 1.47 1.35L5.41 20z\"/>\n",
              "  </svg>\n",
              "      </button>\n",
              "      \n",
              "  <style>\n",
              "    .colab-df-container {\n",
              "      display:flex;\n",
              "      flex-wrap:wrap;\n",
              "      gap: 12px;\n",
              "    }\n",
              "\n",
              "    .colab-df-convert {\n",
              "      background-color: #E8F0FE;\n",
              "      border: none;\n",
              "      border-radius: 50%;\n",
              "      cursor: pointer;\n",
              "      display: none;\n",
              "      fill: #1967D2;\n",
              "      height: 32px;\n",
              "      padding: 0 0 0 0;\n",
              "      width: 32px;\n",
              "    }\n",
              "\n",
              "    .colab-df-convert:hover {\n",
              "      background-color: #E2EBFA;\n",
              "      box-shadow: 0px 1px 2px rgba(60, 64, 67, 0.3), 0px 1px 3px 1px rgba(60, 64, 67, 0.15);\n",
              "      fill: #174EA6;\n",
              "    }\n",
              "\n",
              "    [theme=dark] .colab-df-convert {\n",
              "      background-color: #3B4455;\n",
              "      fill: #D2E3FC;\n",
              "    }\n",
              "\n",
              "    [theme=dark] .colab-df-convert:hover {\n",
              "      background-color: #434B5C;\n",
              "      box-shadow: 0px 1px 3px 1px rgba(0, 0, 0, 0.15);\n",
              "      filter: drop-shadow(0px 1px 2px rgba(0, 0, 0, 0.3));\n",
              "      fill: #FFFFFF;\n",
              "    }\n",
              "  </style>\n",
              "\n",
              "      <script>\n",
              "        const buttonEl =\n",
              "          document.querySelector('#df-f96dbc19-38e2-438e-a29e-60d840705e03 button.colab-df-convert');\n",
              "        buttonEl.style.display =\n",
              "          google.colab.kernel.accessAllowed ? 'block' : 'none';\n",
              "\n",
              "        async function convertToInteractive(key) {\n",
              "          const element = document.querySelector('#df-f96dbc19-38e2-438e-a29e-60d840705e03');\n",
              "          const dataTable =\n",
              "            await google.colab.kernel.invokeFunction('convertToInteractive',\n",
              "                                                     [key], {});\n",
              "          if (!dataTable) return;\n",
              "\n",
              "          const docLinkHtml = 'Like what you see? Visit the ' +\n",
              "            '<a target=\"_blank\" href=https://colab.research.google.com/notebooks/data_table.ipynb>data table notebook</a>'\n",
              "            + ' to learn more about interactive tables.';\n",
              "          element.innerHTML = '';\n",
              "          dataTable['output_type'] = 'display_data';\n",
              "          await google.colab.output.renderOutput(dataTable, element);\n",
              "          const docLink = document.createElement('div');\n",
              "          docLink.innerHTML = docLinkHtml;\n",
              "          element.appendChild(docLink);\n",
              "        }\n",
              "      </script>\n",
              "    </div>\n",
              "  </div>\n",
              "  "
            ]
          },
          "metadata": {},
          "execution_count": 30
        }
      ]
    },
    {
      "cell_type": "code",
      "source": [
        "iqr =  q.iloc[0] - q.iloc[1] "
      ],
      "metadata": {
        "id": "RjZYCrGiJJPY"
      },
      "execution_count": 31,
      "outputs": []
    },
    {
      "cell_type": "code",
      "source": [
        "iqr"
      ],
      "metadata": {
        "colab": {
          "base_uri": "https://localhost:8080/"
        },
        "id": "L-0RmZr3JK8H",
        "outputId": "f09211af-dd2b-443c-c0d3-7a1275961f00"
      },
      "execution_count": 32,
      "outputs": [
        {
          "output_type": "execute_result",
          "data": {
            "text/plain": [
              "CustomerID                99.50\n",
              "Age                       20.25\n",
              "Annual Income (k$)        36.50\n",
              "Spending Score (1-100)    38.25\n",
              "dtype: float64"
            ]
          },
          "metadata": {},
          "execution_count": 32
        }
      ]
    },
    {
      "cell_type": "code",
      "source": [
        "u = q.iloc[0] + (1.5*iqr)  "
      ],
      "metadata": {
        "id": "JsqerY6iJMVf"
      },
      "execution_count": 33,
      "outputs": []
    },
    {
      "cell_type": "code",
      "source": [
        "u"
      ],
      "metadata": {
        "colab": {
          "base_uri": "https://localhost:8080/"
        },
        "id": "LX2fwtcdJODn",
        "outputId": "4f2a883a-a063-4177-ec50-e54d36d75cd4"
      },
      "execution_count": 34,
      "outputs": [
        {
          "output_type": "execute_result",
          "data": {
            "text/plain": [
              "CustomerID                299.500\n",
              "Age                        79.375\n",
              "Annual Income (k$)        132.750\n",
              "Spending Score (1-100)    130.375\n",
              "dtype: float64"
            ]
          },
          "metadata": {},
          "execution_count": 34
        }
      ]
    },
    {
      "cell_type": "code",
      "source": [
        "l = q.iloc[1] - (1.5*iqr) "
      ],
      "metadata": {
        "id": "Cp5ZJGyvJOw_"
      },
      "execution_count": 35,
      "outputs": []
    },
    {
      "cell_type": "code",
      "source": [
        "l"
      ],
      "metadata": {
        "colab": {
          "base_uri": "https://localhost:8080/"
        },
        "id": "sNzf3crWJQhP",
        "outputId": "9ee697f0-6bb9-4c7b-8d24-ac98c1ff13d0"
      },
      "execution_count": 36,
      "outputs": [
        {
          "output_type": "execute_result",
          "data": {
            "text/plain": [
              "CustomerID               -98.500\n",
              "Age                       -1.625\n",
              "Annual Income (k$)       -13.250\n",
              "Spending Score (1-100)   -22.625\n",
              "dtype: float64"
            ]
          },
          "metadata": {},
          "execution_count": 36
        }
      ]
    },
    {
      "cell_type": "code",
      "source": [
        "df['Annual Income (k$)'] = np.where(np.logical_or(df['Annual Income (k$)']>132.75,df['Annual Income (k$)']<-13.250), 61.5,df['Annual Income (k$)'])"
      ],
      "metadata": {
        "id": "8OnprQmDJREf"
      },
      "execution_count": 37,
      "outputs": []
    },
    {
      "cell_type": "code",
      "source": [
        "sns.boxplot(df['Annual Income (k$)'])"
      ],
      "metadata": {
        "colab": {
          "base_uri": "https://localhost:8080/",
          "height": 0
        },
        "id": "yOjxtPmDJWPg",
        "outputId": "ffe4e6eb-6f12-46fa-804b-85a895fa12d3"
      },
      "execution_count": 38,
      "outputs": [
        {
          "output_type": "stream",
          "name": "stderr",
          "text": [
            "/usr/local/lib/python3.7/dist-packages/seaborn/_decorators.py:43: FutureWarning: Pass the following variable as a keyword arg: x. From version 0.12, the only valid positional argument will be `data`, and passing other arguments without an explicit keyword will result in an error or misinterpretation.\n",
            "  FutureWarning\n"
          ]
        },
        {
          "output_type": "execute_result",
          "data": {
            "text/plain": [
              "<matplotlib.axes._subplots.AxesSubplot at 0x7f4e62237050>"
            ]
          },
          "metadata": {},
          "execution_count": 38
        },
        {
          "output_type": "display_data",
          "data": {
            "text/plain": [
              "<Figure size 432x288 with 1 Axes>"
            ],
            "image/png": "[encoded data removed]"
          },
          "metadata": {
            "needs_background": "light"
          }
        }
      ]
    },
    {
      "cell_type": "code",
      "source": [
        "from sklearn.preprocessing import LabelEncoder\n",
        "le = LabelEncoder()\n",
        "df['Gender'] = le.fit_transform(df['Gender']) "
      ],
      "metadata": {
        "id": "pL7DeI6xJY2Q"
      },
      "execution_count": 39,
      "outputs": []
    },
    {
      "cell_type": "code",
      "source": [
        "df.head()"
      ],
      "metadata": {
        "colab": {
          "base_uri": "https://localhost:8080/",
          "height": 0
        },
        "id": "VXkWRdDZJg8g",
        "outputId": "acc53837-bb56-43a6-d468-1b0033ce213f"
      },
      "execution_count": 40,
      "outputs": [
        {
          "output_type": "execute_result",
          "data": {
            "text/plain": [
              "   CustomerID  Gender  Age  Annual Income (k$)  Spending Score (1-100)\n",
              "0           1       1   19                15.0                      39\n",
              "1           2       1   21                15.0                      81\n",
              "2           3       0   20                16.0                       6\n",
              "3           4       0   23                16.0                      77\n",
              "4           5       0   31                17.0                      40"
            ],
            "text/html": [
              "\n",
              "  <div id=\"df-8db5fbf7-2e30-4abd-925e-567f8e5c2b2a\">\n",
              "    <div class=\"colab-df-container\">\n",
              "      <div>\n",
              "<style scoped>\n",
              "    .dataframe tbody tr th:only-of-type {\n",
              "        vertical-align: middle;\n",
              "    }\n",
              "\n",
              "    .dataframe tbody tr th {\n",
              "        vertical-align: top;\n",
              "    }\n",
              "\n",
              "    .dataframe thead th {\n",
              "        text-align: right;\n",
              "    }\n",
              "</style>\n",
              "<table border=\"1\" class=\"dataframe\">\n",
              "  <thead>\n",
              "    <tr style=\"text-align: right;\">\n",
              "      <th></th>\n",
              "      <th>CustomerID</th>\n",
              "      <th>Gender</th>\n",
              "      <th>Age</th>\n",
              "      <th>Annual Income (k$)</th>\n",
              "      <th>Spending Score (1-100)</th>\n",
              "    </tr>\n",
              "  </thead>\n",
              "  <tbody>\n",
              "    <tr>\n",
              "      <th>0</th>\n",
              "      <td>1</td>\n",
              "      <td>1</td>\n",
              "      <td>19</td>\n",
              "      <td>15.0</td>\n",
              "      <td>39</td>\n",
              "    </tr>\n",
              "    <tr>\n",
              "      <th>1</th>\n",
              "      <td>2</td>\n",
              "      <td>1</td>\n",
              "      <td>21</td>\n",
              "      <td>15.0</td>\n",
              "      <td>81</td>\n",
              "    </tr>\n",
              "    <tr>\n",
              "      <th>2</th>\n",
              "      <td>3</td>\n",
              "      <td>0</td>\n",
              "      <td>20</td>\n",
              "      <td>16.0</td>\n",
              "      <td>6</td>\n",
              "    </tr>\n",
              "    <tr>\n",
              "      <th>3</th>\n",
              "      <td>4</td>\n",
              "      <td>0</td>\n",
              "      <td>23</td>\n",
              "      <td>16.0</td>\n",
              "      <td>77</td>\n",
              "    </tr>\n",
              "    <tr>\n",
              "      <th>4</th>\n",
              "      <td>5</td>\n",
              "      <td>0</td>\n",
              "      <td>31</td>\n",
              "      <td>17.0</td>\n",
              "      <td>40</td>\n",
              "    </tr>\n",
              "  </tbody>\n",
              "</table>\n",
              "</div>\n",
              "      <button class=\"colab-df-convert\" onclick=\"convertToInteractive('df-8db5fbf7-2e30-4abd-925e-567f8e5c2b2a')\"\n",
              "              title=\"Convert this dataframe to an interactive table.\"\n",
              "              style=\"display:none;\">\n",
              "        \n",
              "  <svg xmlns=\"http://www.w3.org/2000/svg\" height=\"24px\"viewBox=\"0 0 24 24\"\n",
              "       width=\"24px\">\n",
              "    <path d=\"M0 0h24v24H0V0z\" fill=\"none\"/>\n",
              "    <path d=\"M18.56 5.44l.94 2.06.94-2.06 2.06-.94-2.06-.94-.94-2.06-.94 2.06-2.06.94zm-11 1L8.5 8.5l.94-2.06 2.06-.94-2.06-.94L8.5 2.5l-.94 2.06-2.06.94zm10 10l.94 2.06.94-2.06 2.06-.94-2.06-.94-.94-2.06-.94 2.06-2.06.94z\"/><path d=\"M17.41 7.96l-1.37-1.37c-.4-.4-.92-.59-1.43-.59-.52 0-1.04.2-1.43.59L10.3 9.45l-7.72 7.72c-.78.78-.78 2.05 0 2.83L4 21.41c.39.39.9.59 1.41.59.51 0 1.02-.2 1.41-.59l7.78-7.78 2.81-2.81c.8-.78.8-2.07 0-2.86zM5.41 20L4 18.59l7.72-7.72 1.47 1.35L5.41 20z\"/>\n",
              "  </svg>\n",
              "      </button>\n",
              "      \n",
              "  <style>\n",
              "    .colab-df-container {\n",
              "      display:flex;\n",
              "      flex-wrap:wrap;\n",
              "      gap: 12px;\n",
              "    }\n",
              "\n",
              "    .colab-df-convert {\n",
              "      background-color: #E8F0FE;\n",
              "      border: none;\n",
              "      border-radius: 50%;\n",
              "      cursor: pointer;\n",
              "      display: none;\n",
              "      fill: #1967D2;\n",
              "      height: 32px;\n",
              "      padding: 0 0 0 0;\n",
              "      width: 32px;\n",
              "    }\n",
              "\n",
              "    .colab-df-convert:hover {\n",
              "      background-color: #E2EBFA;\n",
              "      box-shadow: 0px 1px 2px rgba(60, 64, 67, 0.3), 0px 1px 3px 1px rgba(60, 64, 67, 0.15);\n",
              "      fill: #174EA6;\n",
              "    }\n",
              "\n",
              "    [theme=dark] .colab-df-convert {\n",
              "      background-color: #3B4455;\n",
              "      fill: #D2E3FC;\n",
              "    }\n",
              "\n",
              "    [theme=dark] .colab-df-convert:hover {\n",
              "      background-color: #434B5C;\n",
              "      box-shadow: 0px 1px 3px 1px rgba(0, 0, 0, 0.15);\n",
              "      filter: drop-shadow(0px 1px 2px rgba(0, 0, 0, 0.3));\n",
              "      fill: #FFFFFF;\n",
              "    }\n",
              "  </style>\n",
              "\n",
              "      <script>\n",
              "        const buttonEl =\n",
              "          document.querySelector('#df-8db5fbf7-2e30-4abd-925e-567f8e5c2b2a button.colab-df-convert');\n",
              "        buttonEl.style.display =\n",
              "          google.colab.kernel.accessAllowed ? 'block' : 'none';\n",
              "\n",
              "        async function convertToInteractive(key) {\n",
              "          const element = document.querySelector('#df-8db5fbf7-2e30-4abd-925e-567f8e5c2b2a');\n",
              "          const dataTable =\n",
              "            await google.colab.kernel.invokeFunction('convertToInteractive',\n",
              "                                                     [key], {});\n",
              "          if (!dataTable) return;\n",
              "\n",
              "          const docLinkHtml = 'Like what you see? Visit the ' +\n",
              "            '<a target=\"_blank\" href=https://colab.research.google.com/notebooks/data_table.ipynb>data table notebook</a>'\n",
              "            + ' to learn more about interactive tables.';\n",
              "          element.innerHTML = '';\n",
              "          dataTable['output_type'] = 'display_data';\n",
              "          await google.colab.output.renderOutput(dataTable, element);\n",
              "          const docLink = document.createElement('div');\n",
              "          docLink.innerHTML = docLinkHtml;\n",
              "          element.appendChild(docLink);\n",
              "        }\n",
              "      </script>\n",
              "    </div>\n",
              "  </div>\n",
              "  "
            ]
          },
          "metadata": {},
          "execution_count": 40
        }
      ]
    },
    {
      "cell_type": "markdown",
      "source": [
        "# Scaling"
      ],
      "metadata": {
        "id": "stj1ntwoJoJy"
      }
    },
    {
      "cell_type": "code",
      "source": [
        "from sklearn.preprocessing import MinMaxScaler\n",
        "min_max = MinMaxScaler()\n",
        "x_scaled = min_max.fit_transform(df)"
      ],
      "metadata": {
        "id": "ELmbSIL1Ji24"
      },
      "execution_count": 41,
      "outputs": []
    },
    {
      "cell_type": "code",
      "source": [
        "x_scaled"
      ],
      "metadata": {
        "colab": {
          "base_uri": "https://localhost:8080/"
        },
        "id": "j5AWr5O6JvGI",
        "outputId": "68b59c37-d4c7-4f29-f9d8-0ab1b089d62b"
      },
      "execution_count": 42,
      "outputs": [
        {
          "output_type": "execute_result",
          "data": {
            "text/plain": [
              "array([[0.        , 1.        , 0.01923077, 0.        , 0.3877551 ],\n",
              "       [0.00502513, 1.        , 0.05769231, 0.        , 0.81632653],\n",
              "       [0.01005025, 0.        , 0.03846154, 0.00900901, 0.05102041],\n",
              "       [0.01507538, 0.        , 0.09615385, 0.00900901, 0.7755102 ],\n",
              "       [0.0201005 , 0.        , 0.25      , 0.01801802, 0.39795918],\n",
              "       [0.02512563, 0.        , 0.07692308, 0.01801802, 0.76530612],\n",
              "       [0.03015075, 0.        , 0.32692308, 0.02702703, 0.05102041],\n",
              "       [0.03517588, 0.        , 0.09615385, 0.02702703, 0.94897959],\n",
              "       [0.04020101, 1.        , 0.88461538, 0.03603604, 0.02040816],\n",
              "       [0.04522613, 0.        , 0.23076923, 0.03603604, 0.7244898 ],\n",
              "       [0.05025126, 1.        , 0.94230769, 0.03603604, 0.13265306],\n",
              "       [0.05527638, 0.        , 0.32692308, 0.03603604, 1.        ],\n",
              "       [0.06030151, 0.        , 0.76923077, 0.04504505, 0.14285714],\n",
              "       [0.06532663, 0.        , 0.11538462, 0.04504505, 0.7755102 ],\n",
              "       [0.07035176, 1.        , 0.36538462, 0.04504505, 0.12244898],\n",
              "       [0.07537688, 1.        , 0.07692308, 0.04504505, 0.79591837],\n",
              "       [0.08040201, 0.        , 0.32692308, 0.05405405, 0.34693878],\n",
              "       [0.08542714, 1.        , 0.03846154, 0.05405405, 0.66326531],\n",
              "       [0.09045226, 1.        , 0.65384615, 0.07207207, 0.28571429],\n",
              "       [0.09547739, 0.        , 0.32692308, 0.07207207, 0.98979592],\n",
              "       [0.10050251, 1.        , 0.32692308, 0.08108108, 0.34693878],\n",
              "       [0.10552764, 1.        , 0.13461538, 0.08108108, 0.73469388],\n",
              "       [0.11055276, 0.        , 0.53846154, 0.09009009, 0.04081633],\n",
              "       [0.11557789, 1.        , 0.25      , 0.09009009, 0.73469388],\n",
              "       [0.12060302, 0.        , 0.69230769, 0.11711712, 0.13265306],\n",
              "       [0.12562814, 1.        , 0.21153846, 0.11711712, 0.82653061],\n",
              "       [0.13065327, 0.        , 0.51923077, 0.11711712, 0.31632653],\n",
              "       [0.13567839, 1.        , 0.32692308, 0.11711712, 0.6122449 ],\n",
              "       [0.14070352, 0.        , 0.42307692, 0.12612613, 0.30612245],\n",
              "       [0.14572864, 0.        , 0.09615385, 0.12612613, 0.87755102],\n",
              "       [0.15075377, 1.        , 0.80769231, 0.13513514, 0.03061224],\n",
              "       [0.15577889, 0.        , 0.05769231, 0.13513514, 0.73469388],\n",
              "       [0.16080402, 1.        , 0.67307692, 0.16216216, 0.03061224],\n",
              "       [0.16582915, 1.        , 0.        , 0.16216216, 0.92857143],\n",
              "       [0.17085427, 0.        , 0.59615385, 0.16216216, 0.13265306],\n",
              "       [0.1758794 , 0.        , 0.05769231, 0.16216216, 0.81632653],\n",
              "       [0.18090452, 0.        , 0.46153846, 0.17117117, 0.16326531],\n",
              "       [0.18592965, 0.        , 0.23076923, 0.17117117, 0.73469388],\n",
              "       [0.19095477, 0.        , 0.34615385, 0.1981982 , 0.25510204],\n",
              "       [0.1959799 , 0.        , 0.03846154, 0.1981982 , 0.75510204],\n",
              "       [0.20100503, 0.        , 0.90384615, 0.20720721, 0.34693878],\n",
              "       [0.20603015, 1.        , 0.11538462, 0.20720721, 0.92857143],\n",
              "       [0.21105528, 1.        , 0.57692308, 0.21621622, 0.35714286],\n",
              "       [0.2160804 , 0.        , 0.25      , 0.21621622, 0.6122449 ],\n",
              "       [0.22110553, 0.        , 0.59615385, 0.21621622, 0.2755102 ],\n",
              "       [0.22613065, 0.        , 0.11538462, 0.21621622, 0.65306122],\n",
              "       [0.23115578, 0.        , 0.61538462, 0.22522523, 0.55102041],\n",
              "       [0.2361809 , 0.        , 0.17307692, 0.22522523, 0.46938776],\n",
              "       [0.24120603, 0.        , 0.21153846, 0.22522523, 0.41836735],\n",
              "       [0.24623116, 0.        , 0.25      , 0.22522523, 0.41836735],\n",
              "       [0.25125628, 0.        , 0.59615385, 0.24324324, 0.52040816],\n",
              "       [0.25628141, 1.        , 0.28846154, 0.24324324, 0.60204082],\n",
              "       [0.26130653, 0.        , 0.25      , 0.25225225, 0.54081633],\n",
              "       [0.26633166, 1.        , 0.78846154, 0.25225225, 0.60204082],\n",
              "       [0.27135678, 0.        , 0.61538462, 0.25225225, 0.44897959],\n",
              "       [0.27638191, 1.        , 0.55769231, 0.25225225, 0.40816327],\n",
              "       [0.28140704, 0.        , 0.63461538, 0.26126126, 0.5       ],\n",
              "       [0.28643216, 1.        , 0.98076923, 0.26126126, 0.45918367],\n",
              "       [0.29145729, 0.        , 0.17307692, 0.27927928, 0.51020408],\n",
              "       [0.29648241, 1.        , 0.67307692, 0.27927928, 0.45918367],\n",
              "       [0.30150754, 1.        , 1.        , 0.27927928, 0.56122449],\n",
              "       [0.30653266, 1.        , 0.01923077, 0.27927928, 0.55102041],\n",
              "       [0.31155779, 0.        , 0.94230769, 0.28828829, 0.52040816],\n",
              "       [0.31658291, 0.        , 0.69230769, 0.28828829, 0.59183673],\n",
              "       [0.32160804, 1.        , 0.86538462, 0.2972973 , 0.51020408],\n",
              "       [0.32663317, 1.        , 0.        , 0.2972973 , 0.59183673],\n",
              "       [0.33165829, 0.        , 0.48076923, 0.2972973 , 0.5       ],\n",
              "       [0.33668342, 0.        , 0.96153846, 0.2972973 , 0.47959184],\n",
              "       [0.34170854, 1.        , 0.01923077, 0.2972973 , 0.59183673],\n",
              "       [0.34673367, 0.        , 0.26923077, 0.2972973 , 0.46938776],\n",
              "       [0.35175879, 1.        , 1.        , 0.30630631, 0.55102041],\n",
              "       [0.35678392, 0.        , 0.55769231, 0.30630631, 0.41836735],\n",
              "       [0.36180905, 0.        , 0.80769231, 0.31531532, 0.48979592],\n",
              "       [0.36683417, 0.        , 0.80769231, 0.31531532, 0.56122449],\n",
              "       [0.3718593 , 1.        , 0.78846154, 0.35135135, 0.46938776],\n",
              "       [0.37688442, 1.        , 0.15384615, 0.35135135, 0.54081633],\n",
              "       [0.38190955, 0.        , 0.51923077, 0.35135135, 0.53061224],\n",
              "       [0.38693467, 1.        , 0.42307692, 0.35135135, 0.47959184],\n",
              "       [0.3919598 , 0.        , 0.09615385, 0.35135135, 0.52040816],\n",
              "       [0.39698492, 0.        , 0.59615385, 0.35135135, 0.41836735],\n",
              "       [0.40201005, 1.        , 0.75      , 0.35135135, 0.51020408],\n",
              "       [0.40703518, 1.        , 0.38461538, 0.35135135, 0.55102041],\n",
              "       [0.4120603 , 1.        , 0.94230769, 0.35135135, 0.40816327],\n",
              "       [0.41708543, 0.        , 0.53846154, 0.35135135, 0.43877551],\n",
              "       [0.42211055, 0.        , 0.05769231, 0.35135135, 0.57142857],\n",
              "       [0.42713568, 1.        , 0.57692308, 0.35135135, 0.45918367],\n",
              "       [0.4321608 , 0.        , 0.71153846, 0.37837838, 0.58163265],\n",
              "       [0.43718593, 0.        , 0.07692308, 0.37837838, 0.55102041],\n",
              "       [0.44221106, 0.        , 0.30769231, 0.38738739, 0.60204082],\n",
              "       [0.44723618, 0.        , 0.61538462, 0.38738739, 0.45918367],\n",
              "       [0.45226131, 0.        , 0.96153846, 0.3963964 , 0.55102041],\n",
              "       [0.45728643, 1.        , 0.        , 0.3963964 , 0.40816327],\n",
              "       [0.46231156, 1.        , 0.57692308, 0.40540541, 0.48979592],\n",
              "       [0.46733668, 0.        , 0.42307692, 0.40540541, 0.39795918],\n",
              "       [0.47236181, 0.        , 0.26923077, 0.40540541, 0.41836735],\n",
              "       [0.47738693, 1.        , 0.11538462, 0.40540541, 0.52040816],\n",
              "       [0.48241206, 0.        , 0.55769231, 0.40540541, 0.46938776],\n",
              "       [0.48743719, 0.        , 0.17307692, 0.40540541, 0.5       ],\n",
              "       [0.49246231, 1.        , 0.57692308, 0.41441441, 0.41836735],\n",
              "       [0.49748744, 1.        , 0.03846154, 0.41441441, 0.48979592],\n",
              "       [0.50251256, 0.        , 0.09615385, 0.42342342, 0.40816327],\n",
              "       [0.50753769, 0.        , 0.59615385, 0.42342342, 0.47959184],\n",
              "       [0.51256281, 1.        , 0.94230769, 0.42342342, 0.59183673],\n",
              "       [0.51758794, 1.        , 0.15384615, 0.42342342, 0.55102041],\n",
              "       [0.52261307, 1.        , 0.59615385, 0.42342342, 0.56122449],\n",
              "       [0.52763819, 0.        , 0.05769231, 0.42342342, 0.41836735],\n",
              "       [0.53266332, 0.        , 0.92307692, 0.43243243, 0.5       ],\n",
              "       [0.53768844, 1.        , 0.69230769, 0.43243243, 0.45918367],\n",
              "       [0.54271357, 1.        , 0.96153846, 0.43243243, 0.42857143],\n",
              "       [0.54773869, 1.        , 0.92307692, 0.43243243, 0.47959184],\n",
              "       [0.55276382, 1.        , 0.90384615, 0.43243243, 0.52040816],\n",
              "       [0.55778894, 0.        , 0.01923077, 0.43243243, 0.54081633],\n",
              "       [0.56281407, 0.        , 0.38461538, 0.44144144, 0.41836735],\n",
              "       [0.5678392 , 1.        , 0.01923077, 0.44144144, 0.45918367],\n",
              "       [0.57286432, 0.        , 0.        , 0.45045045, 0.47959184],\n",
              "       [0.57788945, 0.        , 0.01923077, 0.45045045, 0.5       ],\n",
              "       [0.58291457, 0.        , 0.86538462, 0.45045045, 0.42857143],\n",
              "       [0.5879397 , 0.        , 0.59615385, 0.45045045, 0.59183673],\n",
              "       [0.59296482, 0.        , 0.63461538, 0.46846847, 0.42857143],\n",
              "       [0.59798995, 0.        , 0.61538462, 0.46846847, 0.57142857],\n",
              "       [0.60301508, 1.        , 0.17307692, 0.46846847, 0.56122449],\n",
              "       [0.6080402 , 0.        , 0.38461538, 0.46846847, 0.39795918],\n",
              "       [0.61306533, 0.        , 0.42307692, 0.48648649, 0.58163265],\n",
              "       [0.61809045, 1.        , 0.40384615, 0.48648649, 0.91836735],\n",
              "       [0.62311558, 0.        , 0.09615385, 0.4954955 , 0.28571429],\n",
              "       [0.6281407 , 0.        , 0.25      , 0.4954955 , 0.7755102 ],\n",
              "       [0.63316583, 1.        , 0.48076923, 0.5045045 , 0.34693878],\n",
              "       [0.63819095, 1.        , 0.42307692, 0.5045045 , 0.95918367],\n",
              "       [0.64321608, 1.        , 0.78846154, 0.5045045 , 0.10204082],\n",
              "       [0.64824121, 1.        , 0.38461538, 0.5045045 , 0.75510204],\n",
              "       [0.65326633, 1.        , 0.55769231, 0.5045045 , 0.08163265],\n",
              "       [0.65829146, 1.        , 0.40384615, 0.5045045 , 0.75510204],\n",
              "       [0.66331658, 0.        , 0.13461538, 0.51351351, 0.33673469],\n",
              "       [0.66834171, 0.        , 0.25      , 0.51351351, 0.71428571],\n",
              "       [0.67336683, 1.        , 0.03846154, 0.52252252, 0.04081633],\n",
              "       [0.67839196, 0.        , 0.21153846, 0.52252252, 0.8877551 ],\n",
              "       [0.68341709, 0.        , 0.5       , 0.52252252, 0.06122449],\n",
              "       [0.68844221, 1.        , 0.26923077, 0.52252252, 0.73469388],\n",
              "       [0.69346734, 1.        , 0.01923077, 0.53153153, 0.09183673],\n",
              "       [0.69849246, 0.        , 0.32692308, 0.53153153, 0.7244898 ],\n",
              "       [0.70351759, 0.        , 0.75      , 0.54054054, 0.04081633],\n",
              "       [0.70854271, 1.        , 0.26923077, 0.54054054, 0.93877551],\n",
              "       [0.71356784, 0.        , 0.19230769, 0.54954955, 0.39795918],\n",
              "       [0.71859296, 0.        , 0.26923077, 0.54954955, 0.87755102],\n",
              "       [0.72361809, 1.        , 0.13461538, 0.55855856, 0.1122449 ],\n",
              "       [0.72864322, 1.        , 0.19230769, 0.55855856, 0.97959184],\n",
              "       [0.73366834, 1.        , 0.57692308, 0.55855856, 0.35714286],\n",
              "       [0.73869347, 0.        , 0.26923077, 0.55855856, 0.74489796],\n",
              "       [0.74371859, 0.        , 0.30769231, 0.56756757, 0.21428571],\n",
              "       [0.74874372, 1.        , 0.30769231, 0.56756757, 0.90816327],\n",
              "       [0.75376884, 1.        , 0.48076923, 0.56756757, 0.16326531],\n",
              "       [0.75879397, 1.        , 0.40384615, 0.56756757, 0.8877551 ],\n",
              "       [0.7638191 , 0.        , 0.5       , 0.56756757, 0.19387755],\n",
              "       [0.76884422, 0.        , 0.38461538, 0.56756757, 0.76530612],\n",
              "       [0.77386935, 0.        , 0.55769231, 0.56756757, 0.15306122],\n",
              "       [0.77889447, 0.        , 0.17307692, 0.56756757, 0.89795918],\n",
              "       [0.7839196 , 1.        , 0.36538462, 0.56756757, 0.        ],\n",
              "       [0.78894472, 0.        , 0.23076923, 0.56756757, 0.78571429],\n",
              "       [0.79396985, 1.        , 0.30769231, 0.56756757, 0.        ],\n",
              "       [0.79899497, 0.        , 0.23076923, 0.56756757, 0.73469388],\n",
              "       [0.8040201 , 0.        , 0.73076923, 0.57657658, 0.34693878],\n",
              "       [0.80904523, 0.        , 0.21153846, 0.57657658, 0.83673469],\n",
              "       [0.81407035, 1.        , 0.01923077, 0.59459459, 0.04081633],\n",
              "       [0.81909548, 0.        , 0.25      , 0.59459459, 0.93877551],\n",
              "       [0.8241206 , 1.        , 0.61538462, 0.63063063, 0.25510204],\n",
              "       [0.82914573, 0.        , 0.34615385, 0.63063063, 0.75510204],\n",
              "       [0.83417085, 1.        , 0.46153846, 0.63963964, 0.19387755],\n",
              "       [0.83919598, 0.        , 0.28846154, 0.63963964, 0.95918367],\n",
              "       [0.84422111, 0.        , 0.34615385, 0.64864865, 0.26530612],\n",
              "       [0.84924623, 1.        , 0.26923077, 0.64864865, 0.63265306],\n",
              "       [0.85427136, 1.        , 0.42307692, 0.64864865, 0.12244898],\n",
              "       [0.85929648, 1.        , 0.19230769, 0.64864865, 0.75510204],\n",
              "       [0.86432161, 1.        , 0.34615385, 0.64864865, 0.09183673],\n",
              "       [0.86934673, 1.        , 0.34615385, 0.64864865, 0.92857143],\n",
              "       [0.87437186, 0.        , 0.65384615, 0.65765766, 0.12244898],\n",
              "       [0.87939698, 0.        , 0.23076923, 0.65765766, 0.86734694],\n",
              "       [0.88442211, 1.        , 0.76923077, 0.65765766, 0.14285714],\n",
              "       [0.88944724, 1.        , 0.17307692, 0.65765766, 0.69387755],\n",
              "       [0.89447236, 1.        , 0.78846154, 0.7027027 , 0.13265306],\n",
              "       [0.89949749, 1.        , 0.32692308, 0.7027027 , 0.90816327],\n",
              "       [0.90452261, 0.        , 0.36538462, 0.73873874, 0.31632653],\n",
              "       [0.90954774, 0.        , 0.26923077, 0.73873874, 0.86734694],\n",
              "       [0.91457286, 1.        , 0.53846154, 0.74774775, 0.14285714],\n",
              "       [0.91959799, 0.        , 0.21153846, 0.74774775, 0.8877551 ],\n",
              "       [0.92462312, 0.        , 0.44230769, 0.75675676, 0.3877551 ],\n",
              "       [0.92964824, 1.        , 0.23076923, 0.75675676, 0.97959184],\n",
              "       [0.93467337, 0.        , 0.69230769, 0.77477477, 0.23469388],\n",
              "       [0.93969849, 1.        , 0.19230769, 0.77477477, 0.68367347],\n",
              "       [0.94472362, 0.        , 0.44230769, 0.79279279, 0.16326531],\n",
              "       [0.94974874, 0.        , 0.34615385, 0.79279279, 0.85714286],\n",
              "       [0.95477387, 0.        , 0.30769231, 0.79279279, 0.2244898 ],\n",
              "       [0.95979899, 0.        , 0.26923077, 0.79279279, 0.69387755],\n",
              "       [0.96482412, 1.        , 0.28846154, 0.88288288, 0.07142857],\n",
              "       [0.96984925, 0.        , 0.38461538, 0.88288288, 0.91836735],\n",
              "       [0.97487437, 0.        , 0.55769231, 0.94594595, 0.15306122],\n",
              "       [0.9798995 , 0.        , 0.32692308, 0.94594595, 0.79591837],\n",
              "       [0.98492462, 0.        , 0.51923077, 1.        , 0.2755102 ],\n",
              "       [0.98994975, 1.        , 0.26923077, 1.        , 0.74489796],\n",
              "       [0.99497487, 1.        , 0.26923077, 0.41891892, 0.17346939],\n",
              "       [1.        , 1.        , 0.23076923, 0.41891892, 0.83673469]])"
            ]
          },
          "metadata": {},
          "execution_count": 42
        }
      ]
    },
    {
      "cell_type": "code",
      "source": [
        "from sklearn.cluster import KMeans\n",
        "KM=KMeans()\n",
        "cluster = KM.fit_predict(x_scaled)"
      ],
      "metadata": {
        "id": "3M0mZfEXJxIw"
      },
      "execution_count": 43,
      "outputs": []
    },
    {
      "cell_type": "code",
      "source": [
        "cluster"
      ],
      "metadata": {
        "colab": {
          "base_uri": "https://localhost:8080/"
        },
        "id": "t-odVwuLKii4",
        "outputId": "4a26bfa6-5899-4d93-cc70-a96e1cfda0c9"
      },
      "execution_count": 44,
      "outputs": [
        {
          "output_type": "execute_result",
          "data": {
            "text/plain": [
              "array([1, 1, 4, 4, 4, 4, 4, 4, 3, 4, 3, 4, 0, 4, 1, 1, 4, 1, 3, 4, 1, 1,\n",
              "       0, 1, 0, 1, 0, 1, 0, 4, 3, 4, 3, 1, 0, 4, 0, 4, 4, 4, 0, 1, 3, 4,\n",
              "       0, 4, 0, 4, 4, 4, 0, 1, 4, 3, 0, 3, 0, 3, 4, 3, 3, 1, 0, 0, 3, 1,\n",
              "       0, 0, 1, 4, 3, 0, 0, 0, 3, 1, 0, 1, 4, 0, 3, 1, 3, 0, 4, 3, 0, 4,\n",
              "       4, 0, 0, 1, 3, 0, 4, 1, 0, 4, 3, 1, 4, 0, 3, 1, 3, 4, 0, 3, 3, 3,\n",
              "       3, 4, 6, 1, 4, 4, 0, 0, 0, 0, 7, 6, 2, 7, 6, 2, 5, 7, 5, 7, 5, 7,\n",
              "       6, 2, 5, 2, 6, 7, 5, 2, 6, 7, 6, 2, 5, 7, 5, 2, 6, 7, 5, 7, 6, 2,\n",
              "       6, 2, 5, 2, 5, 2, 6, 2, 5, 2, 5, 2, 5, 2, 6, 7, 5, 7, 5, 7, 6, 2,\n",
              "       5, 7, 5, 7, 6, 2, 5, 2, 6, 7, 6, 7, 6, 2, 6, 2, 5, 2, 6, 2, 6, 7,\n",
              "       5, 7], dtype=int32)"
            ]
          },
          "metadata": {},
          "execution_count": 44
        }
      ]
    },
    {
      "cell_type": "code",
      "source": [
        "value = df.columns"
      ],
      "metadata": {
        "id": "6puELytGKomh"
      },
      "execution_count": 45,
      "outputs": []
    },
    {
      "cell_type": "code",
      "source": [
        "value"
      ],
      "metadata": {
        "colab": {
          "base_uri": "https://localhost:8080/"
        },
        "id": "cNggiD_GKqbh",
        "outputId": "f6cfe0f6-3c14-4a6d-e5e7-a5edeb947402"
      },
      "execution_count": 46,
      "outputs": [
        {
          "output_type": "execute_result",
          "data": {
            "text/plain": [
              "Index(['CustomerID', 'Gender', 'Age', 'Annual Income (k$)',\n",
              "       'Spending Score (1-100)'],\n",
              "      dtype='object')"
            ]
          },
          "metadata": {},
          "execution_count": 46
        }
      ]
    },
    {
      "cell_type": "code",
      "source": [
        "data1 = pd.DataFrame(x_scaled, columns = value)"
      ],
      "metadata": {
        "id": "ViAWaRmpKtPJ"
      },
      "execution_count": 47,
      "outputs": []
    },
    {
      "cell_type": "code",
      "source": [
        "data1"
      ],
      "metadata": {
        "colab": {
          "base_uri": "https://localhost:8080/",
          "height": 0
        },
        "id": "1wSNIQW4Kvqp",
        "outputId": "d8a49f11-2524-4329-b00c-a966d06a41a8"
      },
      "execution_count": 48,
      "outputs": [
        {
          "output_type": "execute_result",
          "data": {
            "text/plain": [
              "     CustomerID  Gender       Age  Annual Income (k$)  Spending Score (1-100)\n",
              "0      0.000000     1.0  0.019231            0.000000                0.387755\n",
              "1      0.005025     1.0  0.057692            0.000000                0.816327\n",
              "2      0.010050     0.0  0.038462            0.009009                0.051020\n",
              "3      0.015075     0.0  0.096154            0.009009                0.775510\n",
              "4      0.020101     0.0  0.250000            0.018018                0.397959\n",
              "..          ...     ...       ...                 ...                     ...\n",
              "195    0.979899     0.0  0.326923            0.945946                0.795918\n",
              "196    0.984925     0.0  0.519231            1.000000                0.275510\n",
              "197    0.989950     1.0  0.269231            1.000000                0.744898\n",
              "198    0.994975     1.0  0.269231            0.418919                0.173469\n",
              "199    1.000000     1.0  0.230769            0.418919                0.836735\n",
              "\n",
              "[200 rows x 5 columns]"
            ],
            "text/html": [
              "\n",
              "  <div id=\"df-da39983a-7800-430c-8284-eb43e0a9fadd\">\n",
              "    <div class=\"colab-df-container\">\n",
              "      <div>\n",
              "<style scoped>\n",
              "    .dataframe tbody tr th:only-of-type {\n",
              "        vertical-align: middle;\n",
              "    }\n",
              "\n",
              "    .dataframe tbody tr th {\n",
              "        vertical-align: top;\n",
              "    }\n",
              "\n",
              "    .dataframe thead th {\n",
              "        text-align: right;\n",
              "    }\n",
              "</style>\n",
              "<table border=\"1\" class=\"dataframe\">\n",
              "  <thead>\n",
              "    <tr style=\"text-align: right;\">\n",
              "      <th></th>\n",
              "      <th>CustomerID</th>\n",
              "      <th>Gender</th>\n",
              "      <th>Age</th>\n",
              "      <th>Annual Income (k$)</th>\n",
              "      <th>Spending Score (1-100)</th>\n",
              "    </tr>\n",
              "  </thead>\n",
              "  <tbody>\n",
              "    <tr>\n",
              "      <th>0</th>\n",
              "      <td>0.000000</td>\n",
              "      <td>1.0</td>\n",
              "      <td>0.019231</td>\n",
              "      <td>0.000000</td>\n",
              "      <td>0.387755</td>\n",
              "    </tr>\n",
              "    <tr>\n",
              "      <th>1</th>\n",
              "      <td>0.005025</td>\n",
              "      <td>1.0</td>\n",
              "      <td>0.057692</td>\n",
              "      <td>0.000000</td>\n",
              "      <td>0.816327</td>\n",
              "    </tr>\n",
              "    <tr>\n",
              "      <th>2</th>\n",
              "      <td>0.010050</td>\n",
              "      <td>0.0</td>\n",
              "      <td>0.038462</td>\n",
              "      <td>0.009009</td>\n",
              "      <td>0.051020</td>\n",
              "    </tr>\n",
              "    <tr>\n",
              "      <th>3</th>\n",
              "      <td>0.015075</td>\n",
              "      <td>0.0</td>\n",
              "      <td>0.096154</td>\n",
              "      <td>0.009009</td>\n",
              "      <td>0.775510</td>\n",
              "    </tr>\n",
              "    <tr>\n",
              "      <th>4</th>\n",
              "      <td>0.020101</td>\n",
              "      <td>0.0</td>\n",
              "      <td>0.250000</td>\n",
              "      <td>0.018018</td>\n",
              "      <td>0.397959</td>\n",
              "    </tr>\n",
              "    <tr>\n",
              "      <th>...</th>\n",
              "      <td>...</td>\n",
              "      <td>...</td>\n",
              "      <td>...</td>\n",
              "      <td>...</td>\n",
              "      <td>...</td>\n",
              "    </tr>\n",
              "    <tr>\n",
              "      <th>195</th>\n",
              "      <td>0.979899</td>\n",
              "      <td>0.0</td>\n",
              "      <td>0.326923</td>\n",
              "      <td>0.945946</td>\n",
              "      <td>0.795918</td>\n",
              "    </tr>\n",
              "    <tr>\n",
              "      <th>196</th>\n",
              "      <td>0.984925</td>\n",
              "      <td>0.0</td>\n",
              "      <td>0.519231</td>\n",
              "      <td>1.000000</td>\n",
              "      <td>0.275510</td>\n",
              "    </tr>\n",
              "    <tr>\n",
              "      <th>197</th>\n",
              "      <td>0.989950</td>\n",
              "      <td>1.0</td>\n",
              "      <td>0.269231</td>\n",
              "      <td>1.000000</td>\n",
              "      <td>0.744898</td>\n",
              "    </tr>\n",
              "    <tr>\n",
              "      <th>198</th>\n",
              "      <td>0.994975</td>\n",
              "      <td>1.0</td>\n",
              "      <td>0.269231</td>\n",
              "      <td>0.418919</td>\n",
              "      <td>0.173469</td>\n",
              "    </tr>\n",
              "    <tr>\n",
              "      <th>199</th>\n",
              "      <td>1.000000</td>\n",
              "      <td>1.0</td>\n",
              "      <td>0.230769</td>\n",
              "      <td>0.418919</td>\n",
              "      <td>0.836735</td>\n",
              "    </tr>\n",
              "  </tbody>\n",
              "</table>\n",
              "<p>200 rows × 5 columns</p>\n",
              "</div>\n",
              "      <button class=\"colab-df-convert\" onclick=\"convertToInteractive('df-da39983a-7800-430c-8284-eb43e0a9fadd')\"\n",
              "              title=\"Convert this dataframe to an interactive table.\"\n",
              "              style=\"display:none;\">\n",
              "        \n",
              "  <svg xmlns=\"http://www.w3.org/2000/svg\" height=\"24px\"viewBox=\"0 0 24 24\"\n",
              "       width=\"24px\">\n",
              "    <path d=\"M0 0h24v24H0V0z\" fill=\"none\"/>\n",
              "    <path d=\"M18.56 5.44l.94 2.06.94-2.06 2.06-.94-2.06-.94-.94-2.06-.94 2.06-2.06.94zm-11 1L8.5 8.5l.94-2.06 2.06-.94-2.06-.94L8.5 2.5l-.94 2.06-2.06.94zm10 10l.94 2.06.94-2.06 2.06-.94-2.06-.94-.94-2.06-.94 2.06-2.06.94z\"/><path d=\"M17.41 7.96l-1.37-1.37c-.4-.4-.92-.59-1.43-.59-.52 0-1.04.2-1.43.59L10.3 9.45l-7.72 7.72c-.78.78-.78 2.05 0 2.83L4 21.41c.39.39.9.59 1.41.59.51 0 1.02-.2 1.41-.59l7.78-7.78 2.81-2.81c.8-.78.8-2.07 0-2.86zM5.41 20L4 18.59l7.72-7.72 1.47 1.35L5.41 20z\"/>\n",
              "  </svg>\n",
              "      </button>\n",
              "      \n",
              "  <style>\n",
              "    .colab-df-container {\n",
              "      display:flex;\n",
              "      flex-wrap:wrap;\n",
              "      gap: 12px;\n",
              "    }\n",
              "\n",
              "    .colab-df-convert {\n",
              "      background-color: #E8F0FE;\n",
              "      border: none;\n",
              "      border-radius: 50%;\n",
              "      cursor: pointer;\n",
              "      display: none;\n",
              "      fill: #1967D2;\n",
              "      height: 32px;\n",
              "      padding: 0 0 0 0;\n",
              "      width: 32px;\n",
              "    }\n",
              "\n",
              "    .colab-df-convert:hover {\n",
              "      background-color: #E2EBFA;\n",
              "      box-shadow: 0px 1px 2px rgba(60, 64, 67, 0.3), 0px 1px 3px 1px rgba(60, 64, 67, 0.15);\n",
              "      fill: #174EA6;\n",
              "    }\n",
              "\n",
              "    [theme=dark] .colab-df-convert {\n",
              "      background-color: #3B4455;\n",
              "      fill: #D2E3FC;\n",
              "    }\n",
              "\n",
              "    [theme=dark] .colab-df-convert:hover {\n",
              "      background-color: #434B5C;\n",
              "      box-shadow: 0px 1px 3px 1px rgba(0, 0, 0, 0.15);\n",
              "      filter: drop-shadow(0px 1px 2px rgba(0, 0, 0, 0.3));\n",
              "      fill: #FFFFFF;\n",
              "    }\n",
              "  </style>\n",
              "\n",
              "      <script>\n",
              "        const buttonEl =\n",
              "          document.querySelector('#df-da39983a-7800-430c-8284-eb43e0a9fadd button.colab-df-convert');\n",
              "        buttonEl.style.display =\n",
              "          google.colab.kernel.accessAllowed ? 'block' : 'none';\n",
              "\n",
              "        async function convertToInteractive(key) {\n",
              "          const element = document.querySelector('#df-da39983a-7800-430c-8284-eb43e0a9fadd');\n",
              "          const dataTable =\n",
              "            await google.colab.kernel.invokeFunction('convertToInteractive',\n",
              "                                                     [key], {});\n",
              "          if (!dataTable) return;\n",
              "\n",
              "          const docLinkHtml = 'Like what you see? Visit the ' +\n",
              "            '<a target=\"_blank\" href=https://colab.research.google.com/notebooks/data_table.ipynb>data table notebook</a>'\n",
              "            + ' to learn more about interactive tables.';\n",
              "          element.innerHTML = '';\n",
              "          dataTable['output_type'] = 'display_data';\n",
              "          await google.colab.output.renderOutput(dataTable, element);\n",
              "          const docLink = document.createElement('div');\n",
              "          docLink.innerHTML = docLinkHtml;\n",
              "          element.appendChild(docLink);\n",
              "        }\n",
              "      </script>\n",
              "    </div>\n",
              "  </div>\n",
              "  "
            ]
          },
          "metadata": {},
          "execution_count": 48
        }
      ]
    },
    {
      "cell_type": "code",
      "source": [
        "data1['Cluster_value'] = pd.Series(cluster)"
      ],
      "metadata": {
        "id": "YcFciXwFKxPB"
      },
      "execution_count": 49,
      "outputs": []
    },
    {
      "cell_type": "code",
      "source": [
        "data1.head()"
      ],
      "metadata": {
        "colab": {
          "base_uri": "https://localhost:8080/",
          "height": 0
        },
        "id": "hOnNxJb3Ky2w",
        "outputId": "650e610a-70f8-4453-fe7b-fdf6815362e2"
      },
      "execution_count": 50,
      "outputs": [
        {
          "output_type": "execute_result",
          "data": {
            "text/plain": [
              "   CustomerID  Gender       Age  Annual Income (k$)  Spending Score (1-100)  \\\n",
              "0    0.000000     1.0  0.019231            0.000000                0.387755   \n",
              "1    0.005025     1.0  0.057692            0.000000                0.816327   \n",
              "2    0.010050     0.0  0.038462            0.009009                0.051020   \n",
              "3    0.015075     0.0  0.096154            0.009009                0.775510   \n",
              "4    0.020101     0.0  0.250000            0.018018                0.397959   \n",
              "\n",
              "   Cluster_value  \n",
              "0              1  \n",
              "1              1  \n",
              "2              4  \n",
              "3              4  \n",
              "4              4  "
            ],
            "text/html": [
              "\n",
              "  <div id=\"df-29b37337-121f-4cea-af44-3fb42a81d579\">\n",
              "    <div class=\"colab-df-container\">\n",
              "      <div>\n",
              "<style scoped>\n",
              "    .dataframe tbody tr th:only-of-type {\n",
              "        vertical-align: middle;\n",
              "    }\n",
              "\n",
              "    .dataframe tbody tr th {\n",
              "        vertical-align: top;\n",
              "    }\n",
              "\n",
              "    .dataframe thead th {\n",
              "        text-align: right;\n",
              "    }\n",
              "</style>\n",
              "<table border=\"1\" class=\"dataframe\">\n",
              "  <thead>\n",
              "    <tr style=\"text-align: right;\">\n",
              "      <th></th>\n",
              "      <th>CustomerID</th>\n",
              "      <th>Gender</th>\n",
              "      <th>Age</th>\n",
              "      <th>Annual Income (k$)</th>\n",
              "      <th>Spending Score (1-100)</th>\n",
              "      <th>Cluster_value</th>\n",
              "    </tr>\n",
              "  </thead>\n",
              "  <tbody>\n",
              "    <tr>\n",
              "      <th>0</th>\n",
              "      <td>0.000000</td>\n",
              "      <td>1.0</td>\n",
              "      <td>0.019231</td>\n",
              "      <td>0.000000</td>\n",
              "      <td>0.387755</td>\n",
              "      <td>1</td>\n",
              "    </tr>\n",
              "    <tr>\n",
              "      <th>1</th>\n",
              "      <td>0.005025</td>\n",
              "      <td>1.0</td>\n",
              "      <td>0.057692</td>\n",
              "      <td>0.000000</td>\n",
              "      <td>0.816327</td>\n",
              "      <td>1</td>\n",
              "    </tr>\n",
              "    <tr>\n",
              "      <th>2</th>\n",
              "      <td>0.010050</td>\n",
              "      <td>0.0</td>\n",
              "      <td>0.038462</td>\n",
              "      <td>0.009009</td>\n",
              "      <td>0.051020</td>\n",
              "      <td>4</td>\n",
              "    </tr>\n",
              "    <tr>\n",
              "      <th>3</th>\n",
              "      <td>0.015075</td>\n",
              "      <td>0.0</td>\n",
              "      <td>0.096154</td>\n",
              "      <td>0.009009</td>\n",
              "      <td>0.775510</td>\n",
              "      <td>4</td>\n",
              "    </tr>\n",
              "    <tr>\n",
              "      <th>4</th>\n",
              "      <td>0.020101</td>\n",
              "      <td>0.0</td>\n",
              "      <td>0.250000</td>\n",
              "      <td>0.018018</td>\n",
              "      <td>0.397959</td>\n",
              "      <td>4</td>\n",
              "    </tr>\n",
              "  </tbody>\n",
              "</table>\n",
              "</div>\n",
              "      <button class=\"colab-df-convert\" onclick=\"convertToInteractive('df-29b37337-121f-4cea-af44-3fb42a81d579')\"\n",
              "              title=\"Convert this dataframe to an interactive table.\"\n",
              "              style=\"display:none;\">\n",
              "        \n",
              "  <svg xmlns=\"http://www.w3.org/2000/svg\" height=\"24px\"viewBox=\"0 0 24 24\"\n",
              "       width=\"24px\">\n",
              "    <path d=\"M0 0h24v24H0V0z\" fill=\"none\"/>\n",
              "    <path d=\"M18.56 5.44l.94 2.06.94-2.06 2.06-.94-2.06-.94-.94-2.06-.94 2.06-2.06.94zm-11 1L8.5 8.5l.94-2.06 2.06-.94-2.06-.94L8.5 2.5l-.94 2.06-2.06.94zm10 10l.94 2.06.94-2.06 2.06-.94-2.06-.94-.94-2.06-.94 2.06-2.06.94z\"/><path d=\"M17.41 7.96l-1.37-1.37c-.4-.4-.92-.59-1.43-.59-.52 0-1.04.2-1.43.59L10.3 9.45l-7.72 7.72c-.78.78-.78 2.05 0 2.83L4 21.41c.39.39.9.59 1.41.59.51 0 1.02-.2 1.41-.59l7.78-7.78 2.81-2.81c.8-.78.8-2.07 0-2.86zM5.41 20L4 18.59l7.72-7.72 1.47 1.35L5.41 20z\"/>\n",
              "  </svg>\n",
              "      </button>\n",
              "      \n",
              "  <style>\n",
              "    .colab-df-container {\n",
              "      display:flex;\n",
              "      flex-wrap:wrap;\n",
              "      gap: 12px;\n",
              "    }\n",
              "\n",
              "    .colab-df-convert {\n",
              "      background-color: #E8F0FE;\n",
              "      border: none;\n",
              "      border-radius: 50%;\n",
              "      cursor: pointer;\n",
              "      display: none;\n",
              "      fill: #1967D2;\n",
              "      height: 32px;\n",
              "      padding: 0 0 0 0;\n",
              "      width: 32px;\n",
              "    }\n",
              "\n",
              "    .colab-df-convert:hover {\n",
              "      background-color: #E2EBFA;\n",
              "      box-shadow: 0px 1px 2px rgba(60, 64, 67, 0.3), 0px 1px 3px 1px rgba(60, 64, 67, 0.15);\n",
              "      fill: #174EA6;\n",
              "    }\n",
              "\n",
              "    [theme=dark] .colab-df-convert {\n",
              "      background-color: #3B4455;\n",
              "      fill: #D2E3FC;\n",
              "    }\n",
              "\n",
              "    [theme=dark] .colab-df-convert:hover {\n",
              "      background-color: #434B5C;\n",
              "      box-shadow: 0px 1px 3px 1px rgba(0, 0, 0, 0.15);\n",
              "      filter: drop-shadow(0px 1px 2px rgba(0, 0, 0, 0.3));\n",
              "      fill: #FFFFFF;\n",
              "    }\n",
              "  </style>\n",
              "\n",
              "      <script>\n",
              "        const buttonEl =\n",
              "          document.querySelector('#df-29b37337-121f-4cea-af44-3fb42a81d579 button.colab-df-convert');\n",
              "        buttonEl.style.display =\n",
              "          google.colab.kernel.accessAllowed ? 'block' : 'none';\n",
              "\n",
              "        async function convertToInteractive(key) {\n",
              "          const element = document.querySelector('#df-29b37337-121f-4cea-af44-3fb42a81d579');\n",
              "          const dataTable =\n",
              "            await google.colab.kernel.invokeFunction('convertToInteractive',\n",
              "                                                     [key], {});\n",
              "          if (!dataTable) return;\n",
              "\n",
              "          const docLinkHtml = 'Like what you see? Visit the ' +\n",
              "            '<a target=\"_blank\" href=https://colab.research.google.com/notebooks/data_table.ipynb>data table notebook</a>'\n",
              "            + ' to learn more about interactive tables.';\n",
              "          element.innerHTML = '';\n",
              "          dataTable['output_type'] = 'display_data';\n",
              "          await google.colab.output.renderOutput(dataTable, element);\n",
              "          const docLink = document.createElement('div');\n",
              "          docLink.innerHTML = docLinkHtml;\n",
              "          element.appendChild(docLink);\n",
              "        }\n",
              "      </script>\n",
              "    </div>\n",
              "  </div>\n",
              "  "
            ]
          },
          "metadata": {},
          "execution_count": 50
        }
      ]
    },
    {
      "cell_type": "markdown",
      "source": [
        "# Split the data in X and Y"
      ],
      "metadata": {
        "id": "kCalJokWK2sR"
      }
    },
    {
      "cell_type": "code",
      "source": [
        "y = data1['Cluster_value']\n",
        "data1 = data1.drop(['CustomerID','Cluster_value'], axis = 1)\n",
        "x = data1\n",
        "x"
      ],
      "metadata": {
        "colab": {
          "base_uri": "https://localhost:8080/",
          "height": 0
        },
        "id": "q9ru5NC-K0KI",
        "outputId": "c0d9f1fa-d688-4179-ed4a-a6b5d5a02197"
      },
      "execution_count": 51,
      "outputs": [
        {
          "output_type": "execute_result",
          "data": {
            "text/plain": [
              "     Gender       Age  Annual Income (k$)  Spending Score (1-100)\n",
              "0       1.0  0.019231            0.000000                0.387755\n",
              "1       1.0  0.057692            0.000000                0.816327\n",
              "2       0.0  0.038462            0.009009                0.051020\n",
              "3       0.0  0.096154            0.009009                0.775510\n",
              "4       0.0  0.250000            0.018018                0.397959\n",
              "..      ...       ...                 ...                     ...\n",
              "195     0.0  0.326923            0.945946                0.795918\n",
              "196     0.0  0.519231            1.000000                0.275510\n",
              "197     1.0  0.269231            1.000000                0.744898\n",
              "198     1.0  0.269231            0.418919                0.173469\n",
              "199     1.0  0.230769            0.418919                0.836735\n",
              "\n",
              "[200 rows x 4 columns]"
            ],
            "text/html": [
              "\n",
              "  <div id=\"df-7eba912b-7fbb-474f-972c-783fe972c2a3\">\n",
              "    <div class=\"colab-df-container\">\n",
              "      <div>\n",
              "<style scoped>\n",
              "    .dataframe tbody tr th:only-of-type {\n",
              "        vertical-align: middle;\n",
              "    }\n",
              "\n",
              "    .dataframe tbody tr th {\n",
              "        vertical-align: top;\n",
              "    }\n",
              "\n",
              "    .dataframe thead th {\n",
              "        text-align: right;\n",
              "    }\n",
              "</style>\n",
              "<table border=\"1\" class=\"dataframe\">\n",
              "  <thead>\n",
              "    <tr style=\"text-align: right;\">\n",
              "      <th></th>\n",
              "      <th>Gender</th>\n",
              "      <th>Age</th>\n",
              "      <th>Annual Income (k$)</th>\n",
              "      <th>Spending Score (1-100)</th>\n",
              "    </tr>\n",
              "  </thead>\n",
              "  <tbody>\n",
              "    <tr>\n",
              "      <th>0</th>\n",
              "      <td>1.0</td>\n",
              "      <td>0.019231</td>\n",
              "      <td>0.000000</td>\n",
              "      <td>0.387755</td>\n",
              "    </tr>\n",
              "    <tr>\n",
              "      <th>1</th>\n",
              "      <td>1.0</td>\n",
              "      <td>0.057692</td>\n",
              "      <td>0.000000</td>\n",
              "      <td>0.816327</td>\n",
              "    </tr>\n",
              "    <tr>\n",
              "      <th>2</th>\n",
              "      <td>0.0</td>\n",
              "      <td>0.038462</td>\n",
              "      <td>0.009009</td>\n",
              "      <td>0.051020</td>\n",
              "    </tr>\n",
              "    <tr>\n",
              "      <th>3</th>\n",
              "      <td>0.0</td>\n",
              "      <td>0.096154</td>\n",
              "      <td>0.009009</td>\n",
              "      <td>0.775510</td>\n",
              "    </tr>\n",
              "    <tr>\n",
              "      <th>4</th>\n",
              "      <td>0.0</td>\n",
              "      <td>0.250000</td>\n",
              "      <td>0.018018</td>\n",
              "      <td>0.397959</td>\n",
              "    </tr>\n",
              "    <tr>\n",
              "      <th>...</th>\n",
              "      <td>...</td>\n",
              "      <td>...</td>\n",
              "      <td>...</td>\n",
              "      <td>...</td>\n",
              "    </tr>\n",
              "    <tr>\n",
              "      <th>195</th>\n",
              "      <td>0.0</td>\n",
              "      <td>0.326923</td>\n",
              "      <td>0.945946</td>\n",
              "      <td>0.795918</td>\n",
              "    </tr>\n",
              "    <tr>\n",
              "      <th>196</th>\n",
              "      <td>0.0</td>\n",
              "      <td>0.519231</td>\n",
              "      <td>1.000000</td>\n",
              "      <td>0.275510</td>\n",
              "    </tr>\n",
              "    <tr>\n",
              "      <th>197</th>\n",
              "      <td>1.0</td>\n",
              "      <td>0.269231</td>\n",
              "      <td>1.000000</td>\n",
              "      <td>0.744898</td>\n",
              "    </tr>\n",
              "    <tr>\n",
              "      <th>198</th>\n",
              "      <td>1.0</td>\n",
              "      <td>0.269231</td>\n",
              "      <td>0.418919</td>\n",
              "      <td>0.173469</td>\n",
              "    </tr>\n",
              "    <tr>\n",
              "      <th>199</th>\n",
              "      <td>1.0</td>\n",
              "      <td>0.230769</td>\n",
              "      <td>0.418919</td>\n",
              "      <td>0.836735</td>\n",
              "    </tr>\n",
              "  </tbody>\n",
              "</table>\n",
              "<p>200 rows × 4 columns</p>\n",
              "</div>\n",
              "      <button class=\"colab-df-convert\" onclick=\"convertToInteractive('df-7eba912b-7fbb-474f-972c-783fe972c2a3')\"\n",
              "              title=\"Convert this dataframe to an interactive table.\"\n",
              "              style=\"display:none;\">\n",
              "        \n",
              "  <svg xmlns=\"http://www.w3.org/2000/svg\" height=\"24px\"viewBox=\"0 0 24 24\"\n",
              "       width=\"24px\">\n",
              "    <path d=\"M0 0h24v24H0V0z\" fill=\"none\"/>\n",
              "    <path d=\"M18.56 5.44l.94 2.06.94-2.06 2.06-.94-2.06-.94-.94-2.06-.94 2.06-2.06.94zm-11 1L8.5 8.5l.94-2.06 2.06-.94-2.06-.94L8.5 2.5l-.94 2.06-2.06.94zm10 10l.94 2.06.94-2.06 2.06-.94-2.06-.94-.94-2.06-.94 2.06-2.06.94z\"/><path d=\"M17.41 7.96l-1.37-1.37c-.4-.4-.92-.59-1.43-.59-.52 0-1.04.2-1.43.59L10.3 9.45l-7.72 7.72c-.78.78-.78 2.05 0 2.83L4 21.41c.39.39.9.59 1.41.59.51 0 1.02-.2 1.41-.59l7.78-7.78 2.81-2.81c.8-.78.8-2.07 0-2.86zM5.41 20L4 18.59l7.72-7.72 1.47 1.35L5.41 20z\"/>\n",
              "  </svg>\n",
              "      </button>\n",
              "      \n",
              "  <style>\n",
              "    .colab-df-container {\n",
              "      display:flex;\n",
              "      flex-wrap:wrap;\n",
              "      gap: 12px;\n",
              "    }\n",
              "\n",
              "    .colab-df-convert {\n",
              "      background-color: #E8F0FE;\n",
              "      border: none;\n",
              "      border-radius: 50%;\n",
              "      cursor: pointer;\n",
              "      display: none;\n",
              "      fill: #1967D2;\n",
              "      height: 32px;\n",
              "      padding: 0 0 0 0;\n",
              "      width: 32px;\n",
              "    }\n",
              "\n",
              "    .colab-df-convert:hover {\n",
              "      background-color: #E2EBFA;\n",
              "      box-shadow: 0px 1px 2px rgba(60, 64, 67, 0.3), 0px 1px 3px 1px rgba(60, 64, 67, 0.15);\n",
              "      fill: #174EA6;\n",
              "    }\n",
              "\n",
              "    [theme=dark] .colab-df-convert {\n",
              "      background-color: #3B4455;\n",
              "      fill: #D2E3FC;\n",
              "    }\n",
              "\n",
              "    [theme=dark] .colab-df-convert:hover {\n",
              "      background-color: #434B5C;\n",
              "      box-shadow: 0px 1px 3px 1px rgba(0, 0, 0, 0.15);\n",
              "      filter: drop-shadow(0px 1px 2px rgba(0, 0, 0, 0.3));\n",
              "      fill: #FFFFFF;\n",
              "    }\n",
              "  </style>\n",
              "\n",
              "      <script>\n",
              "        const buttonEl =\n",
              "          document.querySelector('#df-7eba912b-7fbb-474f-972c-783fe972c2a3 button.colab-df-convert');\n",
              "        buttonEl.style.display =\n",
              "          google.colab.kernel.accessAllowed ? 'block' : 'none';\n",
              "\n",
              "        async function convertToInteractive(key) {\n",
              "          const element = document.querySelector('#df-7eba912b-7fbb-474f-972c-783fe972c2a3');\n",
              "          const dataTable =\n",
              "            await google.colab.kernel.invokeFunction('convertToInteractive',\n",
              "                                                     [key], {});\n",
              "          if (!dataTable) return;\n",
              "\n",
              "          const docLinkHtml = 'Like what you see? Visit the ' +\n",
              "            '<a target=\"_blank\" href=https://colab.research.google.com/notebooks/data_table.ipynb>data table notebook</a>'\n",
              "            + ' to learn more about interactive tables.';\n",
              "          element.innerHTML = '';\n",
              "          dataTable['output_type'] = 'display_data';\n",
              "          await google.colab.output.renderOutput(dataTable, element);\n",
              "          const docLink = document.createElement('div');\n",
              "          docLink.innerHTML = docLinkHtml;\n",
              "          element.appendChild(docLink);\n",
              "        }\n",
              "      </script>\n",
              "    </div>\n",
              "  </div>\n",
              "  "
            ]
          },
          "metadata": {},
          "execution_count": 51
        }
      ]
    },
    {
      "cell_type": "code",
      "source": [
        "y"
      ],
      "metadata": {
        "colab": {
          "base_uri": "https://localhost:8080/"
        },
        "id": "5bZIzssKK5_I",
        "outputId": "fa1ba950-bb1a-4b0f-e3ac-eff9baf76fa5"
      },
      "execution_count": 52,
      "outputs": [
        {
          "output_type": "execute_result",
          "data": {
            "text/plain": [
              "0      1\n",
              "1      1\n",
              "2      4\n",
              "3      4\n",
              "4      4\n",
              "      ..\n",
              "195    2\n",
              "196    6\n",
              "197    7\n",
              "198    5\n",
              "199    7\n",
              "Name: Cluster_value, Length: 200, dtype: int32"
            ]
          },
          "metadata": {},
          "execution_count": 52
        }
      ]
    },
    {
      "cell_type": "markdown",
      "source": [
        "# Split x and y into Training and Testing"
      ],
      "metadata": {
        "id": "J0Sww3IqK-EB"
      }
    },
    {
      "cell_type": "code",
      "source": [
        "from sklearn.model_selection import train_test_split\n",
        "x_train, x_test, y_train, y_test = train_test_split(x_scaled, y, test_size = 0.3, random_state = 0)"
      ],
      "metadata": {
        "id": "Qnu2i-JgK7nQ"
      },
      "execution_count": 53,
      "outputs": []
    },
    {
      "cell_type": "code",
      "source": [
        "x_train"
      ],
      "metadata": {
        "colab": {
          "base_uri": "https://localhost:8080/"
        },
        "id": "zCd_XqecLAep",
        "outputId": "50b537bd-197a-461c-89d2-44b361f78d4b"
      },
      "execution_count": 54,
      "outputs": [
        {
          "output_type": "execute_result",
          "data": {
            "text/plain": [
              "array([[0.65829146, 1.        , 0.40384615, 0.5045045 , 0.75510204],\n",
              "       [0.48241206, 0.        , 0.55769231, 0.40540541, 0.46938776],\n",
              "       [0.90954774, 0.        , 0.26923077, 0.73873874, 0.86734694],\n",
              "       [0.09547739, 0.        , 0.32692308, 0.07207207, 0.98979592],\n",
              "       [0.76884422, 0.        , 0.38461538, 0.56756757, 0.76530612],\n",
              "       [0.46231156, 1.        , 0.57692308, 0.40540541, 0.48979592],\n",
              "       [0.27135678, 0.        , 0.61538462, 0.25225225, 0.44897959],\n",
              "       [0.81909548, 0.        , 0.25      , 0.59459459, 0.93877551],\n",
              "       [0.25628141, 1.        , 0.28846154, 0.24324324, 0.60204082],\n",
              "       [0.4321608 , 0.        , 0.71153846, 0.37837838, 0.58163265],\n",
              "       [0.69849246, 0.        , 0.32692308, 0.53153153, 0.7244898 ],\n",
              "       [0.45226131, 0.        , 0.96153846, 0.3963964 , 0.55102041],\n",
              "       [0.68844221, 1.        , 0.26923077, 0.52252252, 0.73469388],\n",
              "       [0.50753769, 0.        , 0.59615385, 0.42342342, 0.47959184],\n",
              "       [0.72361809, 1.        , 0.13461538, 0.55855856, 0.1122449 ],\n",
              "       [0.44723618, 0.        , 0.61538462, 0.38738739, 0.45918367],\n",
              "       [0.54773869, 1.        , 0.92307692, 0.43243243, 0.47959184],\n",
              "       [0.07035176, 1.        , 0.36538462, 0.04504505, 0.12244898],\n",
              "       [0.13567839, 1.        , 0.32692308, 0.11711712, 0.6122449 ],\n",
              "       [0.70854271, 1.        , 0.26923077, 0.54054054, 0.93877551],\n",
              "       [0.93969849, 1.        , 0.19230769, 0.77477477, 0.68367347],\n",
              "       [0.23115578, 0.        , 0.61538462, 0.22522523, 0.55102041],\n",
              "       [0.69346734, 1.        , 0.01923077, 0.53153153, 0.09183673],\n",
              "       [0.9798995 , 0.        , 0.32692308, 0.94594595, 0.79591837],\n",
              "       [0.54271357, 1.        , 0.96153846, 0.43243243, 0.42857143],\n",
              "       [0.31155779, 0.        , 0.94230769, 0.28828829, 0.52040816],\n",
              "       [0.01005025, 0.        , 0.03846154, 0.00900901, 0.05102041],\n",
              "       [0.29648241, 1.        , 0.67307692, 0.27927928, 0.45918367],\n",
              "       [0.68341709, 0.        , 0.5       , 0.52252252, 0.06122449],\n",
              "       [0.98994975, 1.        , 0.26923077, 1.        , 0.74489796],\n",
              "       [0.2160804 , 0.        , 0.25      , 0.21621622, 0.6122449 ],\n",
              "       [0.05025126, 1.        , 0.94230769, 0.03603604, 0.13265306],\n",
              "       [0.97487437, 0.        , 0.55769231, 0.94594595, 0.15306122],\n",
              "       [0.36683417, 0.        , 0.80769231, 0.31531532, 0.56122449],\n",
              "       [0.98492462, 0.        , 0.51923077, 1.        , 0.2755102 ],\n",
              "       [0.89447236, 1.        , 0.78846154, 0.7027027 , 0.13265306],\n",
              "       [0.87939698, 0.        , 0.23076923, 0.65765766, 0.86734694],\n",
              "       [0.63316583, 1.        , 0.48076923, 0.5045045 , 0.34693878],\n",
              "       [0.46733668, 0.        , 0.42307692, 0.40540541, 0.39795918],\n",
              "       [0.56281407, 0.        , 0.38461538, 0.44144144, 0.41836735],\n",
              "       [0.79396985, 1.        , 0.30769231, 0.56756757, 0.        ],\n",
              "       [0.95979899, 0.        , 0.26923077, 0.79279279, 0.69387755],\n",
              "       [0.25125628, 0.        , 0.59615385, 0.24324324, 0.52040816],\n",
              "       [0.        , 1.        , 0.01923077, 0.        , 0.3877551 ],\n",
              "       [0.47236181, 0.        , 0.26923077, 0.40540541, 0.41836735],\n",
              "       [0.55276382, 1.        , 0.90384615, 0.43243243, 0.52040816],\n",
              "       [0.47738693, 1.        , 0.11538462, 0.40540541, 0.52040816],\n",
              "       [0.32160804, 1.        , 0.86538462, 0.2972973 , 0.51020408],\n",
              "       [0.83919598, 0.        , 0.28846154, 0.63963964, 0.95918367],\n",
              "       [0.20603015, 1.        , 0.11538462, 0.20720721, 0.92857143],\n",
              "       [0.34673367, 0.        , 0.26923077, 0.2972973 , 0.46938776],\n",
              "       [0.24623116, 0.        , 0.25      , 0.22522523, 0.41836735],\n",
              "       [0.24120603, 0.        , 0.21153846, 0.22522523, 0.41836735],\n",
              "       [0.42713568, 1.        , 0.57692308, 0.35135135, 0.45918367],\n",
              "       [0.06532663, 0.        , 0.11538462, 0.04504505, 0.7755102 ],\n",
              "       [0.80904523, 0.        , 0.21153846, 0.57657658, 0.83673469],\n",
              "       [0.11557789, 1.        , 0.25      , 0.09009009, 0.73469388],\n",
              "       [0.93467337, 0.        , 0.69230769, 0.77477477, 0.23469388],\n",
              "       [0.67839196, 0.        , 0.21153846, 0.52252252, 0.8877551 ],\n",
              "       [0.10050251, 1.        , 0.32692308, 0.08108108, 0.34693878],\n",
              "       [0.07537688, 1.        , 0.07692308, 0.04504505, 0.79591837],\n",
              "       [0.3919598 , 0.        , 0.09615385, 0.35135135, 0.52040816],\n",
              "       [0.52261307, 1.        , 0.59615385, 0.42342342, 0.56122449],\n",
              "       [0.26130653, 0.        , 0.25      , 0.25225225, 0.54081633],\n",
              "       [0.50251256, 0.        , 0.09615385, 0.42342342, 0.40816327],\n",
              "       [0.38190955, 0.        , 0.51923077, 0.35135135, 0.53061224],\n",
              "       [0.01507538, 0.        , 0.09615385, 0.00900901, 0.7755102 ],\n",
              "       [0.58291457, 0.        , 0.86538462, 0.45045045, 0.42857143],\n",
              "       [0.8241206 , 1.        , 0.61538462, 0.63063063, 0.25510204],\n",
              "       [0.99497487, 1.        , 0.26923077, 0.41891892, 0.17346939],\n",
              "       [0.03015075, 0.        , 0.32692308, 0.02702703, 0.05102041],\n",
              "       [0.34170854, 1.        , 0.01923077, 0.2972973 , 0.59183673],\n",
              "       [0.42211055, 0.        , 0.05769231, 0.35135135, 0.57142857],\n",
              "       [0.6080402 , 0.        , 0.38461538, 0.46846847, 0.39795918],\n",
              "       [0.77889447, 0.        , 0.17307692, 0.56756757, 0.89795918],\n",
              "       [0.85929648, 1.        , 0.19230769, 0.64864865, 0.75510204],\n",
              "       [0.7839196 , 1.        , 0.36538462, 0.56756757, 0.        ],\n",
              "       [0.45728643, 1.        , 0.        , 0.3963964 , 0.40816327],\n",
              "       [1.        , 1.        , 0.23076923, 0.41891892, 0.83673469],\n",
              "       [0.05527638, 0.        , 0.32692308, 0.03603604, 1.        ],\n",
              "       [0.59798995, 0.        , 0.61538462, 0.46846847, 0.57142857],\n",
              "       [0.51256281, 1.        , 0.94230769, 0.42342342, 0.59183673],\n",
              "       [0.1758794 , 0.        , 0.05769231, 0.16216216, 0.81632653],\n",
              "       [0.28643216, 1.        , 0.98076923, 0.26126126, 0.45918367],\n",
              "       [0.32663317, 1.        , 0.        , 0.2972973 , 0.59183673],\n",
              "       [0.00502513, 1.        , 0.05769231, 0.        , 0.81632653],\n",
              "       [0.60301508, 1.        , 0.17307692, 0.46846847, 0.56122449],\n",
              "       [0.81407035, 1.        , 0.01923077, 0.59459459, 0.04081633],\n",
              "       [0.21105528, 1.        , 0.57692308, 0.21621622, 0.35714286],\n",
              "       [0.52763819, 0.        , 0.05769231, 0.42342342, 0.41836735],\n",
              "       [0.66331658, 0.        , 0.13461538, 0.51351351, 0.33673469],\n",
              "       [0.86934673, 1.        , 0.34615385, 0.64864865, 0.92857143],\n",
              "       [0.08542714, 1.        , 0.03846154, 0.05405405, 0.66326531],\n",
              "       [0.19095477, 0.        , 0.34615385, 0.1981982 , 0.25510204],\n",
              "       [0.66834171, 0.        , 0.25      , 0.51351351, 0.71428571],\n",
              "       [0.26633166, 1.        , 0.78846154, 0.25225225, 0.60204082],\n",
              "       [0.78894472, 0.        , 0.23076923, 0.56756757, 0.78571429],\n",
              "       [0.64321608, 1.        , 0.78846154, 0.5045045 , 0.10204082],\n",
              "       [0.17085427, 0.        , 0.59615385, 0.16216216, 0.13265306],\n",
              "       [0.14070352, 0.        , 0.42307692, 0.12612613, 0.30612245],\n",
              "       [0.57286432, 0.        , 0.        , 0.45045045, 0.47959184],\n",
              "       [0.75879397, 1.        , 0.40384615, 0.56756757, 0.8877551 ],\n",
              "       [0.15577889, 0.        , 0.05769231, 0.13513514, 0.73469388],\n",
              "       [0.83417085, 1.        , 0.46153846, 0.63963964, 0.19387755],\n",
              "       [0.63819095, 1.        , 0.42307692, 0.5045045 , 0.95918367],\n",
              "       [0.88442211, 1.        , 0.76923077, 0.65765766, 0.14285714],\n",
              "       [0.16080402, 1.        , 0.67307692, 0.16216216, 0.03061224],\n",
              "       [0.71356784, 0.        , 0.19230769, 0.54954955, 0.39795918],\n",
              "       [0.84924623, 1.        , 0.26923077, 0.64864865, 0.63265306],\n",
              "       [0.73869347, 0.        , 0.26923077, 0.55855856, 0.74489796],\n",
              "       [0.14572864, 0.        , 0.09615385, 0.12612613, 0.87755102],\n",
              "       [0.49748744, 1.        , 0.03846154, 0.41441441, 0.48979592],\n",
              "       [0.4120603 , 1.        , 0.94230769, 0.35135135, 0.40816327],\n",
              "       [0.39698492, 0.        , 0.59615385, 0.35135135, 0.41836735],\n",
              "       [0.57788945, 0.        , 0.01923077, 0.45045045, 0.5       ],\n",
              "       [0.74371859, 0.        , 0.30769231, 0.56756757, 0.21428571],\n",
              "       [0.96984925, 0.        , 0.38461538, 0.88288288, 0.91836735],\n",
              "       [0.36180905, 0.        , 0.80769231, 0.31531532, 0.48979592],\n",
              "       [0.38693467, 1.        , 0.42307692, 0.35135135, 0.47959184],\n",
              "       [0.12562814, 1.        , 0.21153846, 0.11711712, 0.82653061],\n",
              "       [0.82914573, 0.        , 0.34615385, 0.63063063, 0.75510204],\n",
              "       [0.40703518, 1.        , 0.38461538, 0.35135135, 0.55102041],\n",
              "       [0.94472362, 0.        , 0.44230769, 0.79279279, 0.16326531],\n",
              "       [0.87437186, 0.        , 0.65384615, 0.65765766, 0.12244898],\n",
              "       [0.95477387, 0.        , 0.30769231, 0.79279279, 0.2244898 ],\n",
              "       [0.1959799 , 0.        , 0.03846154, 0.1981982 , 0.75510204],\n",
              "       [0.29145729, 0.        , 0.17307692, 0.27927928, 0.51020408],\n",
              "       [0.70351759, 0.        , 0.75      , 0.54054054, 0.04081633],\n",
              "       [0.44221106, 0.        , 0.30769231, 0.38738739, 0.60204082],\n",
              "       [0.35175879, 1.        , 1.        , 0.30630631, 0.55102041],\n",
              "       [0.43718593, 0.        , 0.07692308, 0.37837838, 0.55102041],\n",
              "       [0.18090452, 0.        , 0.46153846, 0.17117117, 0.16326531],\n",
              "       [0.10552764, 1.        , 0.13461538, 0.08108108, 0.73469388],\n",
              "       [0.04522613, 0.        , 0.23076923, 0.03603604, 0.7244898 ],\n",
              "       [0.51758794, 1.        , 0.15384615, 0.42342342, 0.55102041],\n",
              "       [0.33668342, 0.        , 0.96153846, 0.2972973 , 0.47959184],\n",
              "       [0.96482412, 1.        , 0.28846154, 0.88288288, 0.07142857],\n",
              "       [0.5879397 , 0.        , 0.59615385, 0.45045045, 0.59183673],\n",
              "       [0.2361809 , 0.        , 0.17307692, 0.22522523, 0.46938776],\n",
              "       [0.86432161, 1.        , 0.34615385, 0.64864865, 0.09183673]])"
            ]
          },
          "metadata": {},
          "execution_count": 54
        }
      ]
    },
    {
      "cell_type": "code",
      "source": [
        "x_train.shape"
      ],
      "metadata": {
        "colab": {
          "base_uri": "https://localhost:8080/"
        },
        "id": "hEe4L0W-LCDZ",
        "outputId": "f69e18c8-9e8d-4579-c34a-64dde3831c65"
      },
      "execution_count": 55,
      "outputs": [
        {
          "output_type": "execute_result",
          "data": {
            "text/plain": [
              "(140, 5)"
            ]
          },
          "metadata": {},
          "execution_count": 55
        }
      ]
    },
    {
      "cell_type": "code",
      "source": [
        "x_test"
      ],
      "metadata": {
        "colab": {
          "base_uri": "https://localhost:8080/"
        },
        "id": "rl-TQkUqLELB",
        "outputId": "9bf6d199-8aa2-49d9-cb7f-029026373b60"
      },
      "execution_count": 56,
      "outputs": [
        {
          "output_type": "execute_result",
          "data": {
            "text/plain": [
              "array([[0.09045226, 1.        , 0.65384615, 0.07207207, 0.28571429],\n",
              "       [0.85427136, 1.        , 0.42307692, 0.64864865, 0.12244898],\n",
              "       [0.53768844, 1.        , 0.69230769, 0.43243243, 0.45918367],\n",
              "       [0.49246231, 1.        , 0.57692308, 0.41441441, 0.41836735],\n",
              "       [0.88944724, 1.        , 0.17307692, 0.65765766, 0.69387755],\n",
              "       [0.91457286, 1.        , 0.53846154, 0.74774775, 0.14285714],\n",
              "       [0.02512563, 0.        , 0.07692308, 0.01801802, 0.76530612],\n",
              "       [0.73366834, 1.        , 0.57692308, 0.55855856, 0.35714286],\n",
              "       [0.06030151, 0.        , 0.76923077, 0.04504505, 0.14285714],\n",
              "       [0.7638191 , 0.        , 0.5       , 0.56756757, 0.19387755],\n",
              "       [0.30653266, 1.        , 0.01923077, 0.27927928, 0.55102041],\n",
              "       [0.6281407 , 0.        , 0.25      , 0.4954955 , 0.7755102 ],\n",
              "       [0.90452261, 0.        , 0.36538462, 0.73873874, 0.31632653],\n",
              "       [0.77386935, 0.        , 0.55769231, 0.56756757, 0.15306122],\n",
              "       [0.40201005, 1.        , 0.75      , 0.35135135, 0.51020408],\n",
              "       [0.03517588, 0.        , 0.09615385, 0.02702703, 0.94897959],\n",
              "       [0.16582915, 1.        , 0.        , 0.16216216, 0.92857143],\n",
              "       [0.65326633, 1.        , 0.55769231, 0.5045045 , 0.08163265],\n",
              "       [0.18592965, 0.        , 0.23076923, 0.17117117, 0.73469388],\n",
              "       [0.3718593 , 1.        , 0.78846154, 0.35135135, 0.46938776],\n",
              "       [0.91959799, 0.        , 0.21153846, 0.74774775, 0.8877551 ],\n",
              "       [0.72864322, 1.        , 0.19230769, 0.55855856, 0.97959184],\n",
              "       [0.22613065, 0.        , 0.11538462, 0.21621622, 0.65306122],\n",
              "       [0.79899497, 0.        , 0.23076923, 0.56756757, 0.73469388],\n",
              "       [0.30150754, 1.        , 1.        , 0.27927928, 0.56122449],\n",
              "       [0.61809045, 1.        , 0.40384615, 0.48648649, 0.91836735],\n",
              "       [0.89949749, 1.        , 0.32692308, 0.7027027 , 0.90816327],\n",
              "       [0.92964824, 1.        , 0.23076923, 0.75675676, 0.97959184],\n",
              "       [0.61306533, 0.        , 0.42307692, 0.48648649, 0.58163265],\n",
              "       [0.22110553, 0.        , 0.59615385, 0.21621622, 0.2755102 ],\n",
              "       [0.08040201, 0.        , 0.32692308, 0.05405405, 0.34693878],\n",
              "       [0.27638191, 1.        , 0.55769231, 0.25225225, 0.40816327],\n",
              "       [0.75376884, 1.        , 0.48076923, 0.56756757, 0.16326531],\n",
              "       [0.55778894, 0.        , 0.01923077, 0.43243243, 0.54081633],\n",
              "       [0.11055276, 0.        , 0.53846154, 0.09009009, 0.04081633],\n",
              "       [0.94974874, 0.        , 0.34615385, 0.79279279, 0.85714286],\n",
              "       [0.64824121, 1.        , 0.38461538, 0.5045045 , 0.75510204],\n",
              "       [0.0201005 , 0.        , 0.25      , 0.01801802, 0.39795918],\n",
              "       [0.41708543, 0.        , 0.53846154, 0.35135135, 0.43877551],\n",
              "       [0.53266332, 0.        , 0.92307692, 0.43243243, 0.5       ],\n",
              "       [0.67336683, 1.        , 0.03846154, 0.52252252, 0.04081633],\n",
              "       [0.33165829, 0.        , 0.48076923, 0.2972973 , 0.5       ],\n",
              "       [0.13065327, 0.        , 0.51923077, 0.11711712, 0.31632653],\n",
              "       [0.5678392 , 1.        , 0.01923077, 0.44144144, 0.45918367],\n",
              "       [0.84422111, 0.        , 0.34615385, 0.64864865, 0.26530612],\n",
              "       [0.31658291, 0.        , 0.69230769, 0.28828829, 0.59183673],\n",
              "       [0.04020101, 1.        , 0.88461538, 0.03603604, 0.02040816],\n",
              "       [0.37688442, 1.        , 0.15384615, 0.35135135, 0.54081633],\n",
              "       [0.59296482, 0.        , 0.63461538, 0.46846847, 0.42857143],\n",
              "       [0.71859296, 0.        , 0.26923077, 0.54954955, 0.87755102],\n",
              "       [0.35678392, 0.        , 0.55769231, 0.30630631, 0.41836735],\n",
              "       [0.62311558, 0.        , 0.09615385, 0.4954955 , 0.28571429],\n",
              "       [0.92462312, 0.        , 0.44230769, 0.75675676, 0.3877551 ],\n",
              "       [0.48743719, 0.        , 0.17307692, 0.40540541, 0.5       ],\n",
              "       [0.74874372, 1.        , 0.30769231, 0.56756757, 0.90816327],\n",
              "       [0.12060302, 0.        , 0.69230769, 0.11711712, 0.13265306],\n",
              "       [0.15075377, 1.        , 0.80769231, 0.13513514, 0.03061224],\n",
              "       [0.8040201 , 0.        , 0.73076923, 0.57657658, 0.34693878],\n",
              "       [0.20100503, 0.        , 0.90384615, 0.20720721, 0.34693878],\n",
              "       [0.28140704, 0.        , 0.63461538, 0.26126126, 0.5       ]])"
            ]
          },
          "metadata": {},
          "execution_count": 56
        }
      ]
    },
    {
      "cell_type": "code",
      "source": [
        "x_test.shape"
      ],
      "metadata": {
        "colab": {
          "base_uri": "https://localhost:8080/"
        },
        "id": "54G_9p79LFXJ",
        "outputId": "92ebe5fe-ed75-4e38-8912-f6aee2e9e56b"
      },
      "execution_count": 57,
      "outputs": [
        {
          "output_type": "execute_result",
          "data": {
            "text/plain": [
              "(60, 5)"
            ]
          },
          "metadata": {},
          "execution_count": 57
        }
      ]
    },
    {
      "cell_type": "code",
      "source": [
        "y_train"
      ],
      "metadata": {
        "colab": {
          "base_uri": "https://localhost:8080/"
        },
        "id": "Jbs0Vc3lLHex",
        "outputId": "02305200-bff0-4c6d-f77e-cfcf1921d6b5"
      },
      "execution_count": 58,
      "outputs": [
        {
          "output_type": "execute_result",
          "data": {
            "text/plain": [
              "131    7\n",
              "96     0\n",
              "181    2\n",
              "19     4\n",
              "153    2\n",
              "      ..\n",
              "67     0\n",
              "192    5\n",
              "117    0\n",
              "47     4\n",
              "172    5\n",
              "Name: Cluster_value, Length: 140, dtype: int32"
            ]
          },
          "metadata": {},
          "execution_count": 58
        }
      ]
    },
    {
      "cell_type": "code",
      "source": [
        "y_test"
      ],
      "metadata": {
        "colab": {
          "base_uri": "https://localhost:8080/"
        },
        "id": "IA3aOkjHLImB",
        "outputId": "38503ed9-0179-41e3-9c2b-24f4ce8ede27"
      },
      "execution_count": 59,
      "outputs": [
        {
          "output_type": "execute_result",
          "data": {
            "text/plain": [
              "18     3\n",
              "170    5\n",
              "107    3\n",
              "98     3\n",
              "177    7\n",
              "182    5\n",
              "5      4\n",
              "146    5\n",
              "12     0\n",
              "152    6\n",
              "61     1\n",
              "125    2\n",
              "180    6\n",
              "154    6\n",
              "80     3\n",
              "7      4\n",
              "33     1\n",
              "130    5\n",
              "37     4\n",
              "74     3\n",
              "183    2\n",
              "145    7\n",
              "45     4\n",
              "159    2\n",
              "60     3\n",
              "123    7\n",
              "179    7\n",
              "185    7\n",
              "122    2\n",
              "44     0\n",
              "16     4\n",
              "55     3\n",
              "150    5\n",
              "111    4\n",
              "22     0\n",
              "189    2\n",
              "129    7\n",
              "4      4\n",
              "83     0\n",
              "106    0\n",
              "134    5\n",
              "66     0\n",
              "26     0\n",
              "113    1\n",
              "168    6\n",
              "63     0\n",
              "8      3\n",
              "75     1\n",
              "118    0\n",
              "143    2\n",
              "71     0\n",
              "124    6\n",
              "184    6\n",
              "97     4\n",
              "149    7\n",
              "24     0\n",
              "30     3\n",
              "160    6\n",
              "40     0\n",
              "56     0\n",
              "Name: Cluster_value, dtype: int32"
            ]
          },
          "metadata": {},
          "execution_count": 59
        }
      ]
    },
    {
      "cell_type": "markdown",
      "source": [
        "# Multi inear regression model"
      ],
      "metadata": {
        "id": "3PXHNxzRLNG6"
      }
    },
    {
      "cell_type": "code",
      "source": [
        "from sklearn.linear_model import LinearRegression\n",
        "mlr = LinearRegression()\n",
        "mlr.fit(x_train,y_train)"
      ],
      "metadata": {
        "colab": {
          "base_uri": "https://localhost:8080/"
        },
        "id": "BVEks28vLKOB",
        "outputId": "941f90b2-4c8e-47db-92d9-43a750da94c3"
      },
      "execution_count": 60,
      "outputs": [
        {
          "output_type": "execute_result",
          "data": {
            "text/plain": [
              "LinearRegression()"
            ]
          },
          "metadata": {},
          "execution_count": 60
        }
      ]
    },
    {
      "cell_type": "code",
      "source": [
        "pred = mlr.predict(x_test)"
      ],
      "metadata": {
        "id": "_1_yBUawLThp"
      },
      "execution_count": 61,
      "outputs": []
    },
    {
      "cell_type": "code",
      "source": [
        "pred"
      ],
      "metadata": {
        "colab": {
          "base_uri": "https://localhost:8080/"
        },
        "id": "oB2Auc-tLVEY",
        "outputId": "6ed43cec-46c5-45f7-dfac-45a33778b714"
      },
      "execution_count": 62,
      "outputs": [
        {
          "output_type": "execute_result",
          "data": {
            "text/plain": [
              "array([1.93359802, 5.29976874, 3.12558858, 3.24348611, 5.11292894,\n",
              "       5.17624848, 1.50479232, 4.21998611, 1.13055655, 4.06088576,\n",
              "       3.53299076, 3.20462154, 4.56223312, 4.04780605, 2.43420392,\n",
              "       1.22828943, 2.54107211, 4.37696566, 1.75483185, 2.28227212,\n",
              "       4.09019966, 4.06594647, 2.23156315, 3.96972798, 1.49495351,\n",
              "       3.3258868 , 4.47121143, 4.62746686, 3.08158214, 1.78438337,\n",
              "       1.81006014, 2.54544406, 4.77922909, 3.78894913, 1.91723687,\n",
              "       3.93730032, 3.71627698, 1.67027735, 2.35911427, 1.89390632,\n",
              "       5.56255431, 2.07654314, 1.60574416, 4.62083384, 4.52328607,\n",
              "       1.45440531, 1.67635407, 3.49397871, 2.80911365, 3.34754967,\n",
              "       2.13972173, 4.21729783, 4.36642664, 3.25770167, 4.01338103,\n",
              "       1.47855907, 2.18276451, 3.53147788, 0.97387838, 1.58562914])"
            ]
          },
          "metadata": {},
          "execution_count": 62
        }
      ]
    },
    {
      "cell_type": "code",
      "source": [
        "y_test"
      ],
      "metadata": {
        "colab": {
          "base_uri": "https://localhost:8080/"
        },
        "id": "-bJPX0_ZLWrx",
        "outputId": "5c8100d8-1d62-4d1f-ec6d-e2cc7e4edaed"
      },
      "execution_count": 63,
      "outputs": [
        {
          "output_type": "execute_result",
          "data": {
            "text/plain": [
              "18     3\n",
              "170    5\n",
              "107    3\n",
              "98     3\n",
              "177    7\n",
              "182    5\n",
              "5      4\n",
              "146    5\n",
              "12     0\n",
              "152    6\n",
              "61     1\n",
              "125    2\n",
              "180    6\n",
              "154    6\n",
              "80     3\n",
              "7      4\n",
              "33     1\n",
              "130    5\n",
              "37     4\n",
              "74     3\n",
              "183    2\n",
              "145    7\n",
              "45     4\n",
              "159    2\n",
              "60     3\n",
              "123    7\n",
              "179    7\n",
              "185    7\n",
              "122    2\n",
              "44     0\n",
              "16     4\n",
              "55     3\n",
              "150    5\n",
              "111    4\n",
              "22     0\n",
              "189    2\n",
              "129    7\n",
              "4      4\n",
              "83     0\n",
              "106    0\n",
              "134    5\n",
              "66     0\n",
              "26     0\n",
              "113    1\n",
              "168    6\n",
              "63     0\n",
              "8      3\n",
              "75     1\n",
              "118    0\n",
              "143    2\n",
              "71     0\n",
              "124    6\n",
              "184    6\n",
              "97     4\n",
              "149    7\n",
              "24     0\n",
              "30     3\n",
              "160    6\n",
              "40     0\n",
              "56     0\n",
              "Name: Cluster_value, dtype: int32"
            ]
          },
          "metadata": {},
          "execution_count": 63
        }
      ]
    },
    {
      "cell_type": "markdown",
      "source": [
        "# Performance metrics"
      ],
      "metadata": {
        "id": "A8KbMqSkLdIB"
      }
    },
    {
      "cell_type": "code",
      "source": [
        "from sklearn.metrics import r2_score\n",
        "from sklearn.metrics import mean_squared_error"
      ],
      "metadata": {
        "id": "qIVXMs6VLX6Z"
      },
      "execution_count": 64,
      "outputs": []
    },
    {
      "cell_type": "code",
      "source": [
        "mean= mean_squared_error(y_test,pred)\n",
        "mean"
      ],
      "metadata": {
        "colab": {
          "base_uri": "https://localhost:8080/"
        },
        "id": "eENdGIqTLf74",
        "outputId": "f38010c5-cec0-4017-ff69-8271c6f5e6bf"
      },
      "execution_count": 65,
      "outputs": [
        {
          "output_type": "execute_result",
          "data": {
            "text/plain": [
              "3.5241069544238144"
            ]
          },
          "metadata": {},
          "execution_count": 65
        }
      ]
    },
    {
      "cell_type": "code",
      "source": [
        "rmse = np.sqrt(mean)\n",
        "rmse"
      ],
      "metadata": {
        "colab": {
          "base_uri": "https://localhost:8080/"
        },
        "id": "eSFkr-wPLlxA",
        "outputId": "da054601-ef3a-4ded-82e5-126c3217bf9f"
      },
      "execution_count": 66,
      "outputs": [
        {
          "output_type": "execute_result",
          "data": {
            "text/plain": [
              "1.8772604918933904"
            ]
          },
          "metadata": {},
          "execution_count": 66
        }
      ]
    },
    {
      "cell_type": "code",
      "source": [
        "r2_score(y_test,pred)"
      ],
      "metadata": {
        "colab": {
          "base_uri": "https://localhost:8080/"
        },
        "id": "sjyfgrmnLo-Y",
        "outputId": "9b9a3d9a-ce9f-4e5f-ad05-50692a2926e5"
      },
      "execution_count": 67,
      "outputs": [
        {
          "output_type": "execute_result",
          "data": {
            "text/plain": [
              "0.38125316836101575"
            ]
          },
          "metadata": {},
          "execution_count": 67
        }
      ]
    }
  ]
}